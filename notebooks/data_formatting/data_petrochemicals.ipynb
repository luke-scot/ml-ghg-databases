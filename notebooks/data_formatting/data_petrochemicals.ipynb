{
 "cells": [
  {
   "cell_type": "markdown",
   "source": [
    "## Extracting Petrochemicals data from raw download files"
   ],
   "metadata": {
    "collapsed": false,
    "pycharm": {
     "name": "#%% md\n"
    }
   }
  },
  {
   "cell_type": "code",
   "execution_count": 1,
   "outputs": [],
   "source": [
    "import numpy as np\n",
    "import pandas as pd"
   ],
   "metadata": {
    "collapsed": false,
    "pycharm": {
     "name": "#%%\n"
    }
   }
  },
  {
   "cell_type": "code",
   "execution_count": 2,
   "outputs": [],
   "source": [
    "## File paths\n",
    "data_path = 'RAW_DATA_PATH'\n",
    "save_path = \"..\\data\\classification_inputs/petrochemicals\""
   ],
   "metadata": {
    "collapsed": false,
    "pycharm": {
     "name": "#%%\n"
    }
   }
  },
  {
   "cell_type": "code",
   "execution_count": 3,
   "outputs": [],
   "source": [
    "def filter_df(df:pd.DataFrame, cols:list, filters:list) -> pd.DataFrame:\n",
    "    \"\"\"Function for filtering a pandas dataframe based on column values\"\"\"\n",
    "    for col, filt in zip(cols, filters):\n",
    "        df = df[[i in filt for i in df[col]]]\n",
    "    return df"
   ],
   "metadata": {
    "collapsed": false,
    "pycharm": {
     "name": "#%%\n"
    }
   }
  },
  {
   "cell_type": "code",
   "execution_count": null,
   "outputs": [],
   "source": [
    "## Import and manipulate facility data\n",
    "facilities = pd.read_parquet(data_path)\n",
    "\n",
    "# Use only one target\n",
    "gas_t, type_t = 'CO2e_100a', ['Feedstock', 'Organic chemicals', 'Primary chemicals', 'Other intermediates', 'Direct Utilities', 'Indirect Utilities', 'Direct Process']\n",
    "used = filter_df(facilities, ['Gas', 'Type'], [[gas_t], type_t])\n",
    "\n",
    "# Get correct columns\n",
    "columns = ['PRODUCT', 'COUNTRY/TERRITORY', 'COMPANY', 'ROUTE', 'TECHNOLOGY','SITE', '#', 'COMPLEX', 'LICENSOR', 'START_YR', 'LATITUDE', 'LONGITUDE']\n",
    "used = used.groupby(columns).sum().reset_index()\n",
    "\n",
    "years = [str(i) for i in range(1978, 2051)]\n",
    "used = used[columns+years]\n",
    "\n",
    "# Define start year as first year with value if unspecified + find end year\n",
    "used['START_YR'] = np.where(used['START_YR'].replace('n.a.', 0).astype(float).lt(1), used[years].transpose().ne(0).idxmax(), used['START_YR']).astype(float)\n",
    "used['END_YR'] = used[list(reversed(years))].transpose().ne(0).idxmax().astype(float)\n",
    "\n",
    "# Only take actual facilities and not country fillers\n",
    "used = used[[i not in ['n.a.', '~ADDITIONAL'] for i in used['COMPANY']]]\n",
    "used[['LATITUDE', 'LONGITUDE']+years] = used[['LATITUDE', 'LONGITUDE']+years].astype(float)\n",
    "used = used.drop_duplicates()\n",
    "\n",
    "used.head()"
   ],
   "metadata": {
    "collapsed": false,
    "pycharm": {
     "name": "#%%\n",
     "is_executing": true
    }
   }
  },
  {
   "cell_type": "code",
   "execution_count": 5,
   "outputs": [],
   "source": [
    "def convert_to_yearly(df, columns, years) -> pd.DataFrame:\n",
    "    \"\"\"Convert dataframe of plants with entry for each year into dataframe with row for each year\"\"\"\n",
    "    # Convert to yearly\n",
    "    yearly = pd.melt(df, id_vars=columns+['END_YR'], value_vars=years, var_name='Year', value_name='Emissions')\n",
    "\n",
    "    # Get rid of emissions for years before start year\n",
    "    yearly['Age'] = yearly['Year'].astype(int) - yearly['START_YR'].astype(int)\n",
    "    yearly = yearly[yearly['Age'] >= 0]\n",
    "\n",
    "    # Get rid of emissions for years after end years\n",
    "    yearly['ToGo'] = yearly['END_YR'].astype(int) - yearly['Year'].astype(int)\n",
    "    yearly = yearly[yearly['ToGo'] >= 0]\n",
    "\n",
    "    return yearly.drop(columns=['ToGo'])\n",
    "\n",
    "used_pivoted = convert_to_yearly(used, columns, years)"
   ],
   "metadata": {
    "collapsed": false,
    "pycharm": {
     "name": "#%%\n"
    }
   }
  },
  {
   "cell_type": "code",
   "execution_count": 6,
   "outputs": [],
   "source": [
    "used.to_csv(save_path+'.csv', index=False)\n",
    "used_pivoted.to_csv(save_path+'_melted.csv', index=False)"
   ],
   "metadata": {
    "collapsed": false,
    "pycharm": {
     "name": "#%%\n"
    }
   }
  },
  {
   "cell_type": "code",
   "execution_count": null,
   "outputs": [],
   "source": [
    "data = pd.read_csv(save_path+'.csv')"
   ],
   "metadata": {
    "collapsed": false,
    "pycharm": {
     "name": "#%%\n",
     "is_executing": true
    }
   }
  }
 ],
 "metadata": {
  "kernelspec": {
   "display_name": "Python 3",
   "language": "python",
   "name": "python3"
  },
  "language_info": {
   "codemirror_mode": {
    "name": "ipython",
    "version": 2
   },
   "file_extension": ".py",
   "mimetype": "text/x-python",
   "name": "python",
   "nbconvert_exporter": "python",
   "pygments_lexer": "ipython2",
   "version": "2.7.6"
  }
 },
 "nbformat": 4,
 "nbformat_minor": 0
}