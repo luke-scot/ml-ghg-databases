{
 "cells": [
  {
   "cell_type": "markdown",
   "source": [
    "## Extracting ClimateTRACE data from raw download files"
   ],
   "metadata": {
    "collapsed": false,
    "pycharm": {
     "name": "#%% md\n"
    }
   }
  },
  {
   "cell_type": "code",
   "execution_count": 1,
   "outputs": [],
   "source": [
    "import os\n",
    "import pandas as pd"
   ],
   "metadata": {
    "collapsed": false,
    "pycharm": {
     "name": "#%%\n"
    }
   }
  },
  {
   "cell_type": "code",
   "execution_count": 2,
   "outputs": [],
   "source": [
    "data_path = 'RAW_DATA_PATH'\n",
    "folders = ['manufacturing/']#, 'mineral_extraction/', 'fossil_fuel_operations/', 'power/', 'waste/']\n",
    "save_path = \"../data\\classification_inputs/CT_manufacturing\"\n",
    "key_words = ['asset', 'emissions']\n",
    "\n",
    "files = []\n",
    "for folder in folders:\n",
    "    folder_files = os.listdir(data_path+folder)\n",
    "    files = files + [data_path+folder+file for file in folder_files if key_words[0] in file and key_words[1] in file and 'transport' not in file]"
   ],
   "metadata": {
    "collapsed": false,
    "pycharm": {
     "name": "#%%\n"
    }
   }
  },
  {
   "cell_type": "code",
   "execution_count": 8,
   "outputs": [],
   "source": [
    "def filter_df(df:pd.DataFrame, cols:list, filters:list) -> pd.DataFrame:\n",
    "    \"\"\"Function for filtering a pandas dataframe based on column values\"\"\"\n",
    "    for col, filt in zip(cols, filters):\n",
    "        df = df[[i in filt for i in df[col]]]\n",
    "    return df"
   ],
   "metadata": {
    "collapsed": false,
    "pycharm": {
     "name": "#%%\n"
    }
   }
  },
  {
   "cell_type": "code",
   "execution_count": null,
   "outputs": [],
   "source": [
    "data = pd.DataFrame()\n",
    "for file in files:\n",
    "    data = pd.concat((data, pd.read_csv(file)))\n",
    "\n",
    "data_used = filter_df(data, ['gas'], [['co2e_100yr']])\n",
    "\n",
    "# Extract lat/longs\n",
    "data_used['LONGITUDE'] = [i.strip(\"POINT()\").split(\" \")[0] for i in data_used['st_astext']]\n",
    "data_used['LATITUDE'] = [i.strip(\"POINT()\").split(\" \")[1] for i in data_used['st_astext']]\n",
    "\n",
    "# Extract dates\n",
    "data_used['Year'] = pd.to_datetime(data_used['start_time']).dt.year\n",
    "data_used['Month'] = pd.to_datetime(data_used['start_time']).dt.month\n",
    "\n",
    "columns = ['asset_id', 'iso3_country', 'original_inventory_sector', 'capacity', 'asset_name', 'asset_type', 'LONGITUDE', 'LATITUDE', 'Year', 'Month', 'emissions_quantity']\n",
    "\n",
    "data_used = data_used[columns].rename(columns={'emissions_quantity':'Emissions'}).dropna(subset=['Emissions'])"
   ],
   "metadata": {
    "collapsed": false,
    "pycharm": {
     "name": "#%%\n",
     "is_executing": true
    }
   }
  },
  {
   "cell_type": "code",
   "execution_count": 10,
   "outputs": [],
   "source": [
    "data_used = data_used.merge(data_used[['Year', 'Month']].drop_duplicates().sort_values(['Year', 'Month']).reset_index(drop=True).reset_index().rename(columns={'index':'Timestep'}), on=['Year', 'Month'])\n",
    "data_used = data_used.drop(columns=['Year', 'Month'])"
   ],
   "metadata": {
    "collapsed": false,
    "pycharm": {
     "name": "#%%\n"
    }
   }
  },
  {
   "cell_type": "code",
   "execution_count": 7,
   "outputs": [],
   "source": [
    "feature_cols = [i for i in data_used.columns if i not in ['Timestep', 'Emissions']]\n",
    "data_pivoted = data_used.pivot(index=feature_cols, columns='Timestep', values = 'Emissions').reset_index()"
   ],
   "metadata": {
    "collapsed": false,
    "pycharm": {
     "name": "#%%\n"
    }
   }
  },
  {
   "cell_type": "code",
   "execution_count": 9,
   "outputs": [],
   "source": [
    "data_pivoted.to_csv(save_path+'.csv', index=False)\n",
    "data_used.to_csv(save_path+'_melted.csv', index=False)"
   ],
   "metadata": {
    "collapsed": false,
    "pycharm": {
     "name": "#%%\n"
    }
   }
  },
  {
   "cell_type": "code",
   "execution_count": 3,
   "outputs": [],
   "source": [
    "data = pd.read_csv(save_path+'.csv')"
   ],
   "metadata": {
    "collapsed": false,
    "pycharm": {
     "name": "#%%\n"
    }
   }
  }
 ],
 "metadata": {
  "kernelspec": {
   "display_name": "Python 3",
   "language": "python",
   "name": "python3"
  },
  "language_info": {
   "codemirror_mode": {
    "name": "ipython",
    "version": 2
   },
   "file_extension": ".py",
   "mimetype": "text/x-python",
   "name": "python",
   "nbconvert_exporter": "python",
   "pygments_lexer": "ipython2",
   "version": "2.7.6"
  }
 },
 "nbformat": 4,
 "nbformat_minor": 0
}