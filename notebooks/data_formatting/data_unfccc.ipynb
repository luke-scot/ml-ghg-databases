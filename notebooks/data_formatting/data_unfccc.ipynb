{
 "cells": [
  {
   "cell_type": "markdown",
   "source": [
    "## Extracting UNFCCC data from raw download files"
   ],
   "metadata": {
    "collapsed": false,
    "pycharm": {
     "name": "#%% md\n"
    }
   }
  },
  {
   "cell_type": "code",
   "execution_count": 1,
   "outputs": [],
   "source": [
    "import pandas as pd"
   ],
   "metadata": {
    "collapsed": false,
    "pycharm": {
     "name": "#%%\n"
    }
   }
  },
  {
   "cell_type": "code",
   "execution_count": 3,
   "outputs": [],
   "source": [
    "data_path = \"RAW_DATA_PATH\"\n",
    "save_path = \"..\\data\\classification_inputs/unfccc\""
   ],
   "metadata": {
    "collapsed": false,
    "pycharm": {
     "name": "#%%\n"
    }
   }
  },
  {
   "cell_type": "code",
   "execution_count": null,
   "outputs": [],
   "source": [
    "data = pd.read_csv(data_path, skiprows=3, skipfooter=8)[1:]\n",
    "\n",
    "# Rename columns\n",
    "data.rename(columns={' ':'Party', 'Year':'Category', 'Last Inventory Year (2020)':'2020'}, inplace=True)\n",
    "\n",
    "# Format data as floats and nans if no data\n",
    "years = [str(i) for i in range(1990, 2021)]\n",
    "data[years] = data[years].apply(pd.to_numeric,errors='coerce')\n",
    "data = data.dropna(subset=years)\n",
    "data_pivoted = data.melt(id_vars=['Party', 'Category'], var_name='Year', value_name='Emissions').dropna(subset=['Emissions'])"
   ],
   "metadata": {
    "collapsed": false,
    "pycharm": {
     "name": "#%%\n",
     "is_executing": true
    }
   }
  },
  {
   "cell_type": "code",
   "execution_count": 13,
   "outputs": [],
   "source": [
    "data.to_csv(save_path+'.csv', index=False)\n",
    "data_pivoted.to_csv(save_path+'_melted.csv', index=False)"
   ],
   "metadata": {
    "collapsed": false,
    "pycharm": {
     "name": "#%%\n"
    }
   }
  },
  {
   "cell_type": "code",
   "execution_count": 5,
   "outputs": [],
   "source": [
    "data = pd.read_csv(save_path+'.csv')"
   ],
   "metadata": {
    "collapsed": false,
    "pycharm": {
     "name": "#%%\n"
    }
   }
  }
 ],
 "metadata": {
  "kernelspec": {
   "display_name": "Python 3",
   "language": "python",
   "name": "python3"
  },
  "language_info": {
   "codemirror_mode": {
    "name": "ipython",
    "version": 2
   },
   "file_extension": ".py",
   "mimetype": "text/x-python",
   "name": "python",
   "nbconvert_exporter": "python",
   "pygments_lexer": "ipython2",
   "version": "2.7.6"
  }
 },
 "nbformat": 4,
 "nbformat_minor": 0
}