{
 "cells": [
  {
   "cell_type": "code",
   "execution_count": 1,
   "metadata": {
    "collapsed": true
   },
   "outputs": [],
   "source": [
    "import os\n",
    "import joblib\n",
    "import numpy as np\n",
    "import pandas as pd\n",
    "import matplotlib.pyplot as plt"
   ]
  },
  {
   "cell_type": "code",
   "execution_count": 2,
   "outputs": [],
   "source": [
    "model_folder = 'C:/Users\\lukec\\PycharmProjects\\emissions-tracking-conda\\emissions-tracking\\models/'\n",
    "datasets = ['petrochemicals/', 'CT_manufacturing/', 'unfccc/']"
   ],
   "metadata": {
    "collapsed": false,
    "pycharm": {
     "name": "#%%\n"
    }
   }
  },
  {
   "cell_type": "code",
   "execution_count": 94,
   "outputs": [],
   "source": [
    "clf_files, dataset_type = [], []\n",
    "for dataset in datasets:\n",
    "    d_files = [file for file in os.listdir(model_folder+dataset) if 'accuracies' in file]\n",
    "    clf_files = clf_files+d_files\n",
    "    dataset_type = dataset_type+[dataset[:-1]]*len(d_files)\n",
    "\n",
    "clf_file_df = pd.DataFrame([clf_files, dataset_type, [i+'/'+j for (i,j) in zip(dataset_type,clf_files)]]).transpose()\n",
    "clf_file_df.columns = ['Classifier', 'Dataset', 'Filepath']\n",
    "clf_file_df['Class'] = [i.split('_')[1] for i in clf_file_df['Classifier']]\n",
    "clf_file_df['Level'] = [i.split('_')[2] for i in clf_file_df['Classifier']]\n",
    "clf_file_df = clf_file_df.drop_duplicates(subset=['Dataset','Class', 'Level'], keep='last')"
   ],
   "metadata": {
    "collapsed": false,
    "pycharm": {
     "name": "#%%\n"
    }
   }
  },
  {
   "cell_type": "code",
   "execution_count": 95,
   "outputs": [],
   "source": [
    "#optimals = pd.DataFrame([], columns=['Dataset', 'Class', 'Level', 'Hyperparameters'])\n",
    "hyperparameters = []\n",
    "for row in clf_file_df.iloc:\n",
    "    df = pd.read_table(model_folder+row['Filepath'])\n",
    "    df[['Hyperparameters', 'Accuracy']] = df['Hyperparameters,Accuracy'].str.rsplit(',', 1, expand=True)\n",
    "    df.drop(columns=['Hyperparameters,Accuracy'], inplace=True)\n",
    "    df['Accuracy'] = df['Accuracy'].astype(float)\n",
    "    max_index = df['Accuracy'].idxmax()\n",
    "    hyperparameters = hyperparameters + [df.loc[max_index]['Hyperparameters']]\n",
    "clf_file_df['Hyperparameters'] = hyperparameters\n",
    "sklearn = clf_file_df.copy()"
   ],
   "metadata": {
    "collapsed": false,
    "pycharm": {
     "name": "#%%\n"
    }
   }
  },
  {
   "cell_type": "code",
   "execution_count": 96,
   "outputs": [],
   "source": [
    "clf_files, dataset_type = [], []\n",
    "for dataset in datasets:\n",
    "    d_files = [file for file in os.listdir(model_folder+dataset) if 'iter' in file and '.npy' in file]\n",
    "    clf_files = clf_files+d_files\n",
    "    dataset_type = dataset_type+[dataset[:-1]]*len(d_files)\n",
    "\n",
    "clf_file_df = pd.DataFrame([clf_files, dataset_type, [i+'/'+j for (i,j) in zip(dataset_type,clf_files)]]).transpose()\n",
    "clf_file_df.columns = ['Classifier', 'Dataset', 'Filepath']\n",
    "clf_file_df['Class'] = [i.split('_')[1] for i in clf_file_df['Classifier']]\n",
    "clf_file_df['Level'] = [i.split('_')[2] for i in clf_file_df['Classifier']]"
   ],
   "metadata": {
    "collapsed": false,
    "pycharm": {
     "name": "#%%\n"
    }
   }
  },
  {
   "cell_type": "code",
   "execution_count": 97,
   "outputs": [],
   "source": [
    "hyperparameters = []\n",
    "accuracy = []\n",
    "for row in clf_file_df.iloc:\n",
    "    accuracy = accuracy + [np.load(model_folder+row['Filepath'], allow_pickle=True).item()['average_acc']]\n",
    "    hyperparameters = hyperparameters+[\"{'hidden_dim': \"+row['Classifier'].split('_')[-2]+\", 'learning_rate': \"+row['Classifier'].split('_')[-3]+'}']\n",
    "\n",
    "clf_file_df['Accuracy'] = accuracy\n",
    "clf_file_df['Hyperparameters'] = hyperparameters\n",
    "neurals = clf_file_df.sort_values(['Dataset', 'Class', 'Level', 'Accuracy'], ascending=False).drop_duplicates(['Dataset', 'Class', 'Level'], keep='first')\n",
    "neurals = neurals.drop(columns='Accuracy')\n",
    "neurals = neurals[[i in ['DeepNet', 'ResNet', 'LSTM'] for i in neurals['Class']]]"
   ],
   "metadata": {
    "collapsed": false,
    "pycharm": {
     "name": "#%%\n"
    }
   }
  },
  {
   "cell_type": "code",
   "execution_count": 120,
   "outputs": [],
   "source": [
    "graph_copy = neurals[neurals['Class']=='DeepNet']\n",
    "gcn = graph_copy.copy()\n",
    "gcn['Class'], gcn['Hyperparameters'] = 'GCN', \"{'learning_rate': 0.01, 'hidden_dim': 64}\"\n",
    "sage = graph_copy.copy()\n",
    "sage['Class'], sage['Hyperparameters'] = 'GraphSAGE', \"{'learning_rate': 0.01, 'hidden_dim': 64}\"\n",
    "all_hps = pd.concat((sklearn, neurals, gcn, sage))[['Dataset', 'Class', 'Level', 'Hyperparameters']]"
   ],
   "metadata": {
    "collapsed": false,
    "pycharm": {
     "name": "#%%\n"
    }
   }
  },
  {
   "cell_type": "code",
   "execution_count": 122,
   "outputs": [],
   "source": [
    "all_hps['Dataset'] = all_hps['Dataset'].replace({'petrochemicals':'Petrochemicals', 'unfccc':'UNFCCC', 'CT_manufacturing':'ClimateTRACE'})\n",
    "all_hps['Class'] = all_hps['Class'].replace({'adaBoostClassifier':'Adaboost', 'decisionTreeClassifier':'Decision tree', 'KNeighboursClassifier':'K-nearest neighbours', 'linearLogisticRegression':'Logistic regression', 'linearPassiveAggressiveClassifier':'Passive aggressive', 'linearPerceptron':'Perceptron', 'linearSGDClassifier':'SGD', 'linearSVC':'SVC', 'mlpClassifier':'Multilayer perceptron', 'naiveBayesClassifier':'Naive Bayes', 'randomForestClassifier-n50':'Random forest'})\n",
    "all_hps['Level'] = all_hps['Level'].replace({'l1':'1', 'l2':'2', 'l3':'3'})\n",
    "all_hps.rename(columns={'Class':'Model'},inplace=True)"
   ],
   "metadata": {
    "collapsed": false,
    "pycharm": {
     "name": "#%%\n"
    }
   }
  },
  {
   "cell_type": "code",
   "execution_count": 125,
   "outputs": [],
   "source": [
    "all_hps.sort_values(['Dataset', 'Model', 'Level']).to_csv('C:/Users\\lukec\\PycharmProjects\\emissions-tracking-conda\\emissions-tracking\\outputs\\GRL_for_IE/hyperparameter_values.csv')"
   ],
   "metadata": {
    "collapsed": false,
    "pycharm": {
     "name": "#%%\n"
    }
   }
  },
  {
   "cell_type": "code",
   "execution_count": null,
   "outputs": [],
   "source": [],
   "metadata": {
    "collapsed": false,
    "pycharm": {
     "name": "#%%\n"
    }
   }
  }
 ],
 "metadata": {
  "kernelspec": {
   "display_name": "Python 3",
   "language": "python",
   "name": "python3"
  },
  "language_info": {
   "codemirror_mode": {
    "name": "ipython",
    "version": 2
   },
   "file_extension": ".py",
   "mimetype": "text/x-python",
   "name": "python",
   "nbconvert_exporter": "python",
   "pygments_lexer": "ipython2",
   "version": "2.7.6"
  }
 },
 "nbformat": 4,
 "nbformat_minor": 0
}