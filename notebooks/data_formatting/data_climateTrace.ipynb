{
 "cells": [
  {
   "cell_type": "code",
   "execution_count": 1,
   "metadata": {
    "collapsed": true
   },
   "outputs": [],
   "source": [
    "import os\n",
    "import pandas as pd"
   ]
  },
  {
   "cell_type": "code",
   "execution_count": 2,
   "outputs": [],
   "source": [
    "data_path = 'C:/Users\\lukec\\OneDrive - University of Cambridge\\PhD\\Data\\ClimateTRACE\\May23/'\n",
    "folders = ['manufacturing/']#, 'mineral_extraction/', 'fossil_fuel_operations/', 'power/', 'waste/']\n",
    "save_path = \"C:/Users\\lukec\\PycharmProjects\\emissions-tracking-conda\\emissions-tracking\\data\\classification_inputs/CT_manufacturing\"\n",
    "key_words = ['asset', 'emissions']\n",
    "\n",
    "files = []\n",
    "for folder in folders:\n",
    "    folder_files = os.listdir(data_path+folder)\n",
    "    files = files + [data_path+folder+file for file in folder_files if key_words[0] in file and key_words[1] in file and 'transport' not in file]"
   ],
   "metadata": {
    "collapsed": false,
    "pycharm": {
     "name": "#%%\n"
    }
   }
  },
  {
   "cell_type": "code",
   "execution_count": 8,
   "outputs": [],
   "source": [
    "def filter_df(df:pd.DataFrame, cols:list, filters:list) -> pd.DataFrame:\n",
    "    \"\"\"Function for filtering a pandas dataframe based on column values\"\"\"\n",
    "    for col, filt in zip(cols, filters):\n",
    "        df = df[[i in filt for i in df[col]]]\n",
    "    return df"
   ],
   "metadata": {
    "collapsed": false,
    "pycharm": {
     "name": "#%%\n"
    }
   }
  },
  {
   "cell_type": "code",
   "execution_count": 9,
   "outputs": [
    {
     "name": "stderr",
     "output_type": "stream",
     "text": [
      "C:\\Users\\lukec\\AppData\\Local\\Temp/ipykernel_25480/2374859088.py:8: SettingWithCopyWarning: \n",
      "A value is trying to be set on a copy of a slice from a DataFrame.\n",
      "Try using .loc[row_indexer,col_indexer] = value instead\n",
      "\n",
      "See the caveats in the documentation: https://pandas.pydata.org/pandas-docs/stable/user_guide/indexing.html#returning-a-view-versus-a-copy\n",
      "  data_used['LONGITUDE'] = [i.strip(\"POINT()\").split(\" \")[0] for i in data_used['st_astext']]\n",
      "C:\\Users\\lukec\\AppData\\Local\\Temp/ipykernel_25480/2374859088.py:9: SettingWithCopyWarning: \n",
      "A value is trying to be set on a copy of a slice from a DataFrame.\n",
      "Try using .loc[row_indexer,col_indexer] = value instead\n",
      "\n",
      "See the caveats in the documentation: https://pandas.pydata.org/pandas-docs/stable/user_guide/indexing.html#returning-a-view-versus-a-copy\n",
      "  data_used['LATITUDE'] = [i.strip(\"POINT()\").split(\" \")[1] for i in data_used['st_astext']]\n",
      "C:\\Users\\lukec\\AppData\\Local\\Temp/ipykernel_25480/2374859088.py:12: SettingWithCopyWarning: \n",
      "A value is trying to be set on a copy of a slice from a DataFrame.\n",
      "Try using .loc[row_indexer,col_indexer] = value instead\n",
      "\n",
      "See the caveats in the documentation: https://pandas.pydata.org/pandas-docs/stable/user_guide/indexing.html#returning-a-view-versus-a-copy\n",
      "  data_used['Year'] = pd.to_datetime(data_used['start_time']).dt.year\n",
      "C:\\Users\\lukec\\AppData\\Local\\Temp/ipykernel_25480/2374859088.py:13: SettingWithCopyWarning: \n",
      "A value is trying to be set on a copy of a slice from a DataFrame.\n",
      "Try using .loc[row_indexer,col_indexer] = value instead\n",
      "\n",
      "See the caveats in the documentation: https://pandas.pydata.org/pandas-docs/stable/user_guide/indexing.html#returning-a-view-versus-a-copy\n",
      "  data_used['Month'] = pd.to_datetime(data_used['start_time']).dt.month\n"
     ]
    }
   ],
   "source": [
    "data = pd.DataFrame()\n",
    "for file in files:\n",
    "    data = pd.concat((data, pd.read_csv(file)))\n",
    "\n",
    "data_used = filter_df(data, ['gas'], [['co2e_100yr']])\n",
    "\n",
    "# Extract lat/longs\n",
    "data_used['LONGITUDE'] = [i.strip(\"POINT()\").split(\" \")[0] for i in data_used['st_astext']]\n",
    "data_used['LATITUDE'] = [i.strip(\"POINT()\").split(\" \")[1] for i in data_used['st_astext']]\n",
    "\n",
    "# Extract dates\n",
    "data_used['Year'] = pd.to_datetime(data_used['start_time']).dt.year\n",
    "data_used['Month'] = pd.to_datetime(data_used['start_time']).dt.month\n",
    "\n",
    "columns = ['asset_id', 'iso3_country', 'original_inventory_sector', 'capacity', 'asset_name', 'asset_type', 'LONGITUDE', 'LATITUDE', 'Year', 'Month', 'emissions_quantity']\n",
    "\n",
    "data_used = data_used[columns].rename(columns={'emissions_quantity':'Emissions'}).dropna(subset=['Emissions'])"
   ],
   "metadata": {
    "collapsed": false,
    "pycharm": {
     "name": "#%%\n"
    }
   }
  },
  {
   "cell_type": "code",
   "execution_count": 10,
   "outputs": [],
   "source": [
    "data_used = data_used.merge(data_used[['Year', 'Month']].drop_duplicates().sort_values(['Year', 'Month']).reset_index(drop=True).reset_index().rename(columns={'index':'Timestep'}), on=['Year', 'Month'])\n",
    "data_used = data_used.drop(columns=['Year', 'Month'])"
   ],
   "metadata": {
    "collapsed": false,
    "pycharm": {
     "name": "#%%\n"
    }
   }
  },
  {
   "cell_type": "code",
   "execution_count": 6,
   "outputs": [
    {
     "data": {
      "text/plain": "        asset_id iso3_country original_inventory_sector   capacity  \\\n0       22087016          IND                  aluminum   410000.0   \n1       22087017          IND                  aluminum   360000.0   \n2       22087018          IND                  aluminum   345000.0   \n3       22087019          IRN                  aluminum    60000.0   \n4       22087020          IRN                  aluminum   105000.0   \n...          ...          ...                       ...        ...   \n291147      2823          IDN                     steel  2500000.0   \n291148      2376          AUS                     steel  3200000.0   \n291149      2477          CHN                     steel  6500000.0   \n291150      2658          CHN                     steel  7300000.0   \n291151      2953          KOR                     steel  2200000.0   \n\n                                               asset_name        asset_type  \\\n0                                   Korba aluminium plant           Unknown   \n1                                 Lapanga aluminium plant           Unknown   \n2                                Renukoot aluminium plant           Unknown   \n3                                    Arak aluminium plant           Unknown   \n4                                Arak (2) aluminium plant           Unknown   \n...                                                   ...               ...   \n291147                               Krakatau Steel plant  integrated (DRI)   \n291148                  BlueScope Port Kembla steel plant   integrated (BF)   \n291149           Tangshan Ganglu Iron and Steel Co., Ltd.   integrated (BF)   \n291150  Baosteel Group Xinjiang Bayi Iron & Steel Co.,...   integrated (BF)   \n291151                  Dongkuk Steel Incheon steel plant          electric   \n\n         LONGITUDE    LATITUDE  Emissions  Timestep  \n0        82.736427   22.395148    60175.0        52  \n1        84.048315   21.739215    52837.0        52  \n2        83.030123   24.223115    50635.0        52  \n3        49.758279   34.076901     8806.0        52  \n4         49.76274   34.078385    15411.0        52  \n...            ...         ...        ...       ...  \n291147  106.001766   -6.007021    50417.0        89  \n291148  150.886191  -34.463834   372552.0        89  \n291149  118.073913   40.183913   846930.0        89  \n291150   87.304639   43.852147   632478.0        89  \n291151  126.638607   37.486465    21703.0        89  \n\n[291152 rows x 10 columns]",
      "text/html": "<div>\n<style scoped>\n    .dataframe tbody tr th:only-of-type {\n        vertical-align: middle;\n    }\n\n    .dataframe tbody tr th {\n        vertical-align: top;\n    }\n\n    .dataframe thead th {\n        text-align: right;\n    }\n</style>\n<table border=\"1\" class=\"dataframe\">\n  <thead>\n    <tr style=\"text-align: right;\">\n      <th></th>\n      <th>asset_id</th>\n      <th>iso3_country</th>\n      <th>original_inventory_sector</th>\n      <th>capacity</th>\n      <th>asset_name</th>\n      <th>asset_type</th>\n      <th>LONGITUDE</th>\n      <th>LATITUDE</th>\n      <th>Emissions</th>\n      <th>Timestep</th>\n    </tr>\n  </thead>\n  <tbody>\n    <tr>\n      <th>0</th>\n      <td>22087016</td>\n      <td>IND</td>\n      <td>aluminum</td>\n      <td>410000.0</td>\n      <td>Korba aluminium plant</td>\n      <td>Unknown</td>\n      <td>82.736427</td>\n      <td>22.395148</td>\n      <td>60175.0</td>\n      <td>52</td>\n    </tr>\n    <tr>\n      <th>1</th>\n      <td>22087017</td>\n      <td>IND</td>\n      <td>aluminum</td>\n      <td>360000.0</td>\n      <td>Lapanga aluminium plant</td>\n      <td>Unknown</td>\n      <td>84.048315</td>\n      <td>21.739215</td>\n      <td>52837.0</td>\n      <td>52</td>\n    </tr>\n    <tr>\n      <th>2</th>\n      <td>22087018</td>\n      <td>IND</td>\n      <td>aluminum</td>\n      <td>345000.0</td>\n      <td>Renukoot aluminium plant</td>\n      <td>Unknown</td>\n      <td>83.030123</td>\n      <td>24.223115</td>\n      <td>50635.0</td>\n      <td>52</td>\n    </tr>\n    <tr>\n      <th>3</th>\n      <td>22087019</td>\n      <td>IRN</td>\n      <td>aluminum</td>\n      <td>60000.0</td>\n      <td>Arak aluminium plant</td>\n      <td>Unknown</td>\n      <td>49.758279</td>\n      <td>34.076901</td>\n      <td>8806.0</td>\n      <td>52</td>\n    </tr>\n    <tr>\n      <th>4</th>\n      <td>22087020</td>\n      <td>IRN</td>\n      <td>aluminum</td>\n      <td>105000.0</td>\n      <td>Arak (2) aluminium plant</td>\n      <td>Unknown</td>\n      <td>49.76274</td>\n      <td>34.078385</td>\n      <td>15411.0</td>\n      <td>52</td>\n    </tr>\n    <tr>\n      <th>...</th>\n      <td>...</td>\n      <td>...</td>\n      <td>...</td>\n      <td>...</td>\n      <td>...</td>\n      <td>...</td>\n      <td>...</td>\n      <td>...</td>\n      <td>...</td>\n      <td>...</td>\n    </tr>\n    <tr>\n      <th>291147</th>\n      <td>2823</td>\n      <td>IDN</td>\n      <td>steel</td>\n      <td>2500000.0</td>\n      <td>Krakatau Steel plant</td>\n      <td>integrated (DRI)</td>\n      <td>106.001766</td>\n      <td>-6.007021</td>\n      <td>50417.0</td>\n      <td>89</td>\n    </tr>\n    <tr>\n      <th>291148</th>\n      <td>2376</td>\n      <td>AUS</td>\n      <td>steel</td>\n      <td>3200000.0</td>\n      <td>BlueScope Port Kembla steel plant</td>\n      <td>integrated (BF)</td>\n      <td>150.886191</td>\n      <td>-34.463834</td>\n      <td>372552.0</td>\n      <td>89</td>\n    </tr>\n    <tr>\n      <th>291149</th>\n      <td>2477</td>\n      <td>CHN</td>\n      <td>steel</td>\n      <td>6500000.0</td>\n      <td>Tangshan Ganglu Iron and Steel Co., Ltd.</td>\n      <td>integrated (BF)</td>\n      <td>118.073913</td>\n      <td>40.183913</td>\n      <td>846930.0</td>\n      <td>89</td>\n    </tr>\n    <tr>\n      <th>291150</th>\n      <td>2658</td>\n      <td>CHN</td>\n      <td>steel</td>\n      <td>7300000.0</td>\n      <td>Baosteel Group Xinjiang Bayi Iron &amp; Steel Co.,...</td>\n      <td>integrated (BF)</td>\n      <td>87.304639</td>\n      <td>43.852147</td>\n      <td>632478.0</td>\n      <td>89</td>\n    </tr>\n    <tr>\n      <th>291151</th>\n      <td>2953</td>\n      <td>KOR</td>\n      <td>steel</td>\n      <td>2200000.0</td>\n      <td>Dongkuk Steel Incheon steel plant</td>\n      <td>electric</td>\n      <td>126.638607</td>\n      <td>37.486465</td>\n      <td>21703.0</td>\n      <td>89</td>\n    </tr>\n  </tbody>\n</table>\n<p>291152 rows × 10 columns</p>\n</div>"
     },
     "execution_count": 6,
     "metadata": {},
     "output_type": "execute_result"
    }
   ],
   "source": [
    "data_used"
   ],
   "metadata": {
    "collapsed": false,
    "pycharm": {
     "name": "#%%\n"
    }
   }
  },
  {
   "cell_type": "code",
   "execution_count": 7,
   "outputs": [],
   "source": [
    "feature_cols = [i for i in data_used.columns if i not in ['Timestep', 'Emissions']]\n",
    "# data_pivoted = data_used.pivot(index=feature_cols,\n",
    "#                       columns=['Year', 'Month'] if 'Month' in data_used.columns else 'Year',\n",
    "#                       values = 'Emissions').reset_index()\n",
    "data_pivoted = data_used.pivot(index=feature_cols, columns='Timestep', values = 'Emissions').reset_index()"
   ],
   "metadata": {
    "collapsed": false,
    "pycharm": {
     "name": "#%%\n"
    }
   }
  },
  {
   "cell_type": "code",
   "execution_count": 8,
   "outputs": [
    {
     "data": {
      "text/plain": "Timestep  asset_id iso3_country original_inventory_sector   capacity  \\\n0             2368          ARE                     steel  3500000.0   \n1             2369          ALB                     steel   700000.0   \n2             2370          ARG                     steel  1700000.0   \n3             2371          ARG                     steel  1300000.0   \n4             2372          ARG                     steel  3200000.0   \n...            ...          ...                       ...        ...   \n3290      22087062          USA                  aluminum   220000.0   \n3291      22087063          USA                  aluminum   187000.0   \n3292      22087064          USA                  aluminum   135000.0   \n3293      22087065          USA                  aluminum   184000.0   \n3294      22087066          ZAF                  aluminum   724000.0   \n\nTimestep                                         asset_name        asset_type  \\\n0             GHC Emirates Steel Industries Abu Dhabi plant  integrated (DRI)   \n1                   Kurum International Elbasan steel plant   integrated (BF)   \n2         ArcelorMittal Acindar Villa Constitución steel...  integrated (DRI)   \n3                        TenarisSiderca Campana steel plant  integrated (DRI)   \n4                   Ternium Siderar San Nicolás steel plant   integrated (BF)   \n...                                                     ...               ...   \n3290                                 Sebree aluminium plant           Unknown   \n3291                             New Madrid aluminium plant           Unknown   \n3292                                Massena aluminium plant           Unknown   \n3293                            Mount Holly aluminium plant           Unknown   \n3294                  Richards Bay Hillside aluminium plant           Unknown   \n\nTimestep   LONGITUDE    LATITUDE         0         1  ...        80        81  \\\n0          54.467987   24.322033   62492.0   62492.0  ...   41140.0   49744.0   \n1          20.026117   41.094611   21088.0   21088.0  ...    6808.0    6808.0   \n2         -60.300415  -33.249936   28164.0   26884.0  ...   25371.0   30554.0   \n3         -58.977388  -34.152554   21537.0   20558.0  ...   19402.0   23365.0   \n4         -60.138697   -33.37365  317156.0  317156.0  ...  308826.0  253270.0   \n...              ...         ...       ...       ...  ...       ...       ...   \n3290      -87.500499   37.657434   66114.0   59761.0  ...   52205.0   54609.0   \n3291       -89.56376   36.508977   56197.0   50796.0  ...   44374.0   46417.0   \n3292       -74.89016   44.961979   40570.0   36671.0  ...   32035.0   33510.0   \n3293      -80.054213   33.049111   55296.0   49982.0  ...   43662.0   45673.0   \n3294       32.031062  -28.766982  146278.0  132980.0  ...  135026.0  140141.0   \n\nTimestep        82        83        84        85        86        87  \\\n0          59358.0   62084.0   44916.0   46388.0   61382.0   67847.0   \n1           6808.0    6808.0    6808.0    6808.0    6808.0    6808.0   \n2          32351.0   25523.0   23674.0   23793.0   28470.0   19893.0   \n3          24739.0   19518.0   18103.0   18195.0   21771.0   15212.0   \n4         230394.0  300656.0  207518.0  148694.0  235296.0  267976.0   \n...            ...       ...       ...       ...       ...       ...   \n3290       52892.0   55296.0       NaN       NaN       NaN       NaN   \n3291       44958.0   47001.0       NaN       NaN       NaN       NaN   \n3292       32456.0   33931.0       NaN       NaN       NaN       NaN   \n3293       44237.0   46247.0       NaN       NaN       NaN       NaN   \n3294      134003.0  141164.0       NaN       NaN       NaN       NaN   \n\nTimestep        88        89  \n0          70583.0   67945.0  \n1           6808.0    6808.0  \n2          29533.0   31276.0  \n3          22584.0   23917.0  \n4         267976.0  267976.0  \n...            ...       ...  \n3290           NaN       NaN  \n3291           NaN       NaN  \n3292           NaN       NaN  \n3293           NaN       NaN  \n3294           NaN       NaN  \n\n[3295 rows x 98 columns]",
      "text/html": "<div>\n<style scoped>\n    .dataframe tbody tr th:only-of-type {\n        vertical-align: middle;\n    }\n\n    .dataframe tbody tr th {\n        vertical-align: top;\n    }\n\n    .dataframe thead th {\n        text-align: right;\n    }\n</style>\n<table border=\"1\" class=\"dataframe\">\n  <thead>\n    <tr style=\"text-align: right;\">\n      <th>Timestep</th>\n      <th>asset_id</th>\n      <th>iso3_country</th>\n      <th>original_inventory_sector</th>\n      <th>capacity</th>\n      <th>asset_name</th>\n      <th>asset_type</th>\n      <th>LONGITUDE</th>\n      <th>LATITUDE</th>\n      <th>0</th>\n      <th>1</th>\n      <th>...</th>\n      <th>80</th>\n      <th>81</th>\n      <th>82</th>\n      <th>83</th>\n      <th>84</th>\n      <th>85</th>\n      <th>86</th>\n      <th>87</th>\n      <th>88</th>\n      <th>89</th>\n    </tr>\n  </thead>\n  <tbody>\n    <tr>\n      <th>0</th>\n      <td>2368</td>\n      <td>ARE</td>\n      <td>steel</td>\n      <td>3500000.0</td>\n      <td>GHC Emirates Steel Industries Abu Dhabi plant</td>\n      <td>integrated (DRI)</td>\n      <td>54.467987</td>\n      <td>24.322033</td>\n      <td>62492.0</td>\n      <td>62492.0</td>\n      <td>...</td>\n      <td>41140.0</td>\n      <td>49744.0</td>\n      <td>59358.0</td>\n      <td>62084.0</td>\n      <td>44916.0</td>\n      <td>46388.0</td>\n      <td>61382.0</td>\n      <td>67847.0</td>\n      <td>70583.0</td>\n      <td>67945.0</td>\n    </tr>\n    <tr>\n      <th>1</th>\n      <td>2369</td>\n      <td>ALB</td>\n      <td>steel</td>\n      <td>700000.0</td>\n      <td>Kurum International Elbasan steel plant</td>\n      <td>integrated (BF)</td>\n      <td>20.026117</td>\n      <td>41.094611</td>\n      <td>21088.0</td>\n      <td>21088.0</td>\n      <td>...</td>\n      <td>6808.0</td>\n      <td>6808.0</td>\n      <td>6808.0</td>\n      <td>6808.0</td>\n      <td>6808.0</td>\n      <td>6808.0</td>\n      <td>6808.0</td>\n      <td>6808.0</td>\n      <td>6808.0</td>\n      <td>6808.0</td>\n    </tr>\n    <tr>\n      <th>2</th>\n      <td>2370</td>\n      <td>ARG</td>\n      <td>steel</td>\n      <td>1700000.0</td>\n      <td>ArcelorMittal Acindar Villa Constitución steel...</td>\n      <td>integrated (DRI)</td>\n      <td>-60.300415</td>\n      <td>-33.249936</td>\n      <td>28164.0</td>\n      <td>26884.0</td>\n      <td>...</td>\n      <td>25371.0</td>\n      <td>30554.0</td>\n      <td>32351.0</td>\n      <td>25523.0</td>\n      <td>23674.0</td>\n      <td>23793.0</td>\n      <td>28470.0</td>\n      <td>19893.0</td>\n      <td>29533.0</td>\n      <td>31276.0</td>\n    </tr>\n    <tr>\n      <th>3</th>\n      <td>2371</td>\n      <td>ARG</td>\n      <td>steel</td>\n      <td>1300000.0</td>\n      <td>TenarisSiderca Campana steel plant</td>\n      <td>integrated (DRI)</td>\n      <td>-58.977388</td>\n      <td>-34.152554</td>\n      <td>21537.0</td>\n      <td>20558.0</td>\n      <td>...</td>\n      <td>19402.0</td>\n      <td>23365.0</td>\n      <td>24739.0</td>\n      <td>19518.0</td>\n      <td>18103.0</td>\n      <td>18195.0</td>\n      <td>21771.0</td>\n      <td>15212.0</td>\n      <td>22584.0</td>\n      <td>23917.0</td>\n    </tr>\n    <tr>\n      <th>4</th>\n      <td>2372</td>\n      <td>ARG</td>\n      <td>steel</td>\n      <td>3200000.0</td>\n      <td>Ternium Siderar San Nicolás steel plant</td>\n      <td>integrated (BF)</td>\n      <td>-60.138697</td>\n      <td>-33.37365</td>\n      <td>317156.0</td>\n      <td>317156.0</td>\n      <td>...</td>\n      <td>308826.0</td>\n      <td>253270.0</td>\n      <td>230394.0</td>\n      <td>300656.0</td>\n      <td>207518.0</td>\n      <td>148694.0</td>\n      <td>235296.0</td>\n      <td>267976.0</td>\n      <td>267976.0</td>\n      <td>267976.0</td>\n    </tr>\n    <tr>\n      <th>...</th>\n      <td>...</td>\n      <td>...</td>\n      <td>...</td>\n      <td>...</td>\n      <td>...</td>\n      <td>...</td>\n      <td>...</td>\n      <td>...</td>\n      <td>...</td>\n      <td>...</td>\n      <td>...</td>\n      <td>...</td>\n      <td>...</td>\n      <td>...</td>\n      <td>...</td>\n      <td>...</td>\n      <td>...</td>\n      <td>...</td>\n      <td>...</td>\n      <td>...</td>\n      <td>...</td>\n    </tr>\n    <tr>\n      <th>3290</th>\n      <td>22087062</td>\n      <td>USA</td>\n      <td>aluminum</td>\n      <td>220000.0</td>\n      <td>Sebree aluminium plant</td>\n      <td>Unknown</td>\n      <td>-87.500499</td>\n      <td>37.657434</td>\n      <td>66114.0</td>\n      <td>59761.0</td>\n      <td>...</td>\n      <td>52205.0</td>\n      <td>54609.0</td>\n      <td>52892.0</td>\n      <td>55296.0</td>\n      <td>NaN</td>\n      <td>NaN</td>\n      <td>NaN</td>\n      <td>NaN</td>\n      <td>NaN</td>\n      <td>NaN</td>\n    </tr>\n    <tr>\n      <th>3291</th>\n      <td>22087063</td>\n      <td>USA</td>\n      <td>aluminum</td>\n      <td>187000.0</td>\n      <td>New Madrid aluminium plant</td>\n      <td>Unknown</td>\n      <td>-89.56376</td>\n      <td>36.508977</td>\n      <td>56197.0</td>\n      <td>50796.0</td>\n      <td>...</td>\n      <td>44374.0</td>\n      <td>46417.0</td>\n      <td>44958.0</td>\n      <td>47001.0</td>\n      <td>NaN</td>\n      <td>NaN</td>\n      <td>NaN</td>\n      <td>NaN</td>\n      <td>NaN</td>\n      <td>NaN</td>\n    </tr>\n    <tr>\n      <th>3292</th>\n      <td>22087064</td>\n      <td>USA</td>\n      <td>aluminum</td>\n      <td>135000.0</td>\n      <td>Massena aluminium plant</td>\n      <td>Unknown</td>\n      <td>-74.89016</td>\n      <td>44.961979</td>\n      <td>40570.0</td>\n      <td>36671.0</td>\n      <td>...</td>\n      <td>32035.0</td>\n      <td>33510.0</td>\n      <td>32456.0</td>\n      <td>33931.0</td>\n      <td>NaN</td>\n      <td>NaN</td>\n      <td>NaN</td>\n      <td>NaN</td>\n      <td>NaN</td>\n      <td>NaN</td>\n    </tr>\n    <tr>\n      <th>3293</th>\n      <td>22087065</td>\n      <td>USA</td>\n      <td>aluminum</td>\n      <td>184000.0</td>\n      <td>Mount Holly aluminium plant</td>\n      <td>Unknown</td>\n      <td>-80.054213</td>\n      <td>33.049111</td>\n      <td>55296.0</td>\n      <td>49982.0</td>\n      <td>...</td>\n      <td>43662.0</td>\n      <td>45673.0</td>\n      <td>44237.0</td>\n      <td>46247.0</td>\n      <td>NaN</td>\n      <td>NaN</td>\n      <td>NaN</td>\n      <td>NaN</td>\n      <td>NaN</td>\n      <td>NaN</td>\n    </tr>\n    <tr>\n      <th>3294</th>\n      <td>22087066</td>\n      <td>ZAF</td>\n      <td>aluminum</td>\n      <td>724000.0</td>\n      <td>Richards Bay Hillside aluminium plant</td>\n      <td>Unknown</td>\n      <td>32.031062</td>\n      <td>-28.766982</td>\n      <td>146278.0</td>\n      <td>132980.0</td>\n      <td>...</td>\n      <td>135026.0</td>\n      <td>140141.0</td>\n      <td>134003.0</td>\n      <td>141164.0</td>\n      <td>NaN</td>\n      <td>NaN</td>\n      <td>NaN</td>\n      <td>NaN</td>\n      <td>NaN</td>\n      <td>NaN</td>\n    </tr>\n  </tbody>\n</table>\n<p>3295 rows × 98 columns</p>\n</div>"
     },
     "execution_count": 8,
     "metadata": {},
     "output_type": "execute_result"
    }
   ],
   "source": [
    "data_pivoted"
   ],
   "metadata": {
    "collapsed": false,
    "pycharm": {
     "name": "#%%\n"
    }
   }
  },
  {
   "cell_type": "code",
   "execution_count": 9,
   "outputs": [],
   "source": [
    "data_pivoted.to_csv(save_path+'.csv', index=False)\n",
    "data_used.to_csv(save_path+'_melted.csv', index=False)"
   ],
   "metadata": {
    "collapsed": false,
    "pycharm": {
     "name": "#%%\n"
    }
   }
  },
  {
   "cell_type": "code",
   "execution_count": 3,
   "outputs": [],
   "source": [
    "data = pd.read_csv(save_path+'.csv')"
   ],
   "metadata": {
    "collapsed": false,
    "pycharm": {
     "name": "#%%\n"
    }
   }
  },
  {
   "cell_type": "code",
   "execution_count": 7,
   "outputs": [
    {
     "data": {
      "text/plain": "      asset_id iso3_country original_inventory_sector   capacity  \\\n0         2368          ARE                     steel  3500000.0   \n1         2369          ALB                     steel   700000.0   \n2         2370          ARG                     steel  1700000.0   \n3         2371          ARG                     steel  1300000.0   \n4         2372          ARG                     steel  3200000.0   \n...        ...          ...                       ...        ...   \n3290  22087062          USA                  aluminum   220000.0   \n3291  22087063          USA                  aluminum   187000.0   \n3292  22087064          USA                  aluminum   135000.0   \n3293  22087065          USA                  aluminum   184000.0   \n3294  22087066          ZAF                  aluminum   724000.0   \n\n                                             asset_name        asset_type  \\\n0         GHC Emirates Steel Industries Abu Dhabi plant  integrated (DRI)   \n1               Kurum International Elbasan steel plant   integrated (BF)   \n2     ArcelorMittal Acindar Villa Constitución steel...  integrated (DRI)   \n3                    TenarisSiderca Campana steel plant  integrated (DRI)   \n4               Ternium Siderar San Nicolás steel plant   integrated (BF)   \n...                                                 ...               ...   \n3290                             Sebree aluminium plant           Unknown   \n3291                         New Madrid aluminium plant           Unknown   \n3292                            Massena aluminium plant           Unknown   \n3293                        Mount Holly aluminium plant           Unknown   \n3294              Richards Bay Hillside aluminium plant           Unknown   \n\n      LONGITUDE   LATITUDE         0         1  ...        80        81  \\\n0     54.467987  24.322033   62492.0   62492.0  ...   41140.0   49744.0   \n1     20.026117  41.094611   21088.0   21088.0  ...    6808.0    6808.0   \n2    -60.300415 -33.249936   28164.0   26884.0  ...   25371.0   30554.0   \n3    -58.977388 -34.152554   21537.0   20558.0  ...   19402.0   23365.0   \n4    -60.138697 -33.373650  317156.0  317156.0  ...  308826.0  253270.0   \n...         ...        ...       ...       ...  ...       ...       ...   \n3290 -87.500499  37.657434   66114.0   59761.0  ...   52205.0   54609.0   \n3291 -89.563760  36.508977   56197.0   50796.0  ...   44374.0   46417.0   \n3292 -74.890160  44.961979   40570.0   36671.0  ...   32035.0   33510.0   \n3293 -80.054213  33.049111   55296.0   49982.0  ...   43662.0   45673.0   \n3294  32.031062 -28.766982  146278.0  132980.0  ...  135026.0  140141.0   \n\n            82        83        84        85        86        87        88  \\\n0      59358.0   62084.0   44916.0   46388.0   61382.0   67847.0   70583.0   \n1       6808.0    6808.0    6808.0    6808.0    6808.0    6808.0    6808.0   \n2      32351.0   25523.0   23674.0   23793.0   28470.0   19893.0   29533.0   \n3      24739.0   19518.0   18103.0   18195.0   21771.0   15212.0   22584.0   \n4     230394.0  300656.0  207518.0  148694.0  235296.0  267976.0  267976.0   \n...        ...       ...       ...       ...       ...       ...       ...   \n3290   52892.0   55296.0       NaN       NaN       NaN       NaN       NaN   \n3291   44958.0   47001.0       NaN       NaN       NaN       NaN       NaN   \n3292   32456.0   33931.0       NaN       NaN       NaN       NaN       NaN   \n3293   44237.0   46247.0       NaN       NaN       NaN       NaN       NaN   \n3294  134003.0  141164.0       NaN       NaN       NaN       NaN       NaN   \n\n            89  \n0      67945.0  \n1       6808.0  \n2      31276.0  \n3      23917.0  \n4     267976.0  \n...        ...  \n3290       NaN  \n3291       NaN  \n3292       NaN  \n3293       NaN  \n3294       NaN  \n\n[3295 rows x 98 columns]",
      "text/html": "<div>\n<style scoped>\n    .dataframe tbody tr th:only-of-type {\n        vertical-align: middle;\n    }\n\n    .dataframe tbody tr th {\n        vertical-align: top;\n    }\n\n    .dataframe thead th {\n        text-align: right;\n    }\n</style>\n<table border=\"1\" class=\"dataframe\">\n  <thead>\n    <tr style=\"text-align: right;\">\n      <th></th>\n      <th>asset_id</th>\n      <th>iso3_country</th>\n      <th>original_inventory_sector</th>\n      <th>capacity</th>\n      <th>asset_name</th>\n      <th>asset_type</th>\n      <th>LONGITUDE</th>\n      <th>LATITUDE</th>\n      <th>0</th>\n      <th>1</th>\n      <th>...</th>\n      <th>80</th>\n      <th>81</th>\n      <th>82</th>\n      <th>83</th>\n      <th>84</th>\n      <th>85</th>\n      <th>86</th>\n      <th>87</th>\n      <th>88</th>\n      <th>89</th>\n    </tr>\n  </thead>\n  <tbody>\n    <tr>\n      <th>0</th>\n      <td>2368</td>\n      <td>ARE</td>\n      <td>steel</td>\n      <td>3500000.0</td>\n      <td>GHC Emirates Steel Industries Abu Dhabi plant</td>\n      <td>integrated (DRI)</td>\n      <td>54.467987</td>\n      <td>24.322033</td>\n      <td>62492.0</td>\n      <td>62492.0</td>\n      <td>...</td>\n      <td>41140.0</td>\n      <td>49744.0</td>\n      <td>59358.0</td>\n      <td>62084.0</td>\n      <td>44916.0</td>\n      <td>46388.0</td>\n      <td>61382.0</td>\n      <td>67847.0</td>\n      <td>70583.0</td>\n      <td>67945.0</td>\n    </tr>\n    <tr>\n      <th>1</th>\n      <td>2369</td>\n      <td>ALB</td>\n      <td>steel</td>\n      <td>700000.0</td>\n      <td>Kurum International Elbasan steel plant</td>\n      <td>integrated (BF)</td>\n      <td>20.026117</td>\n      <td>41.094611</td>\n      <td>21088.0</td>\n      <td>21088.0</td>\n      <td>...</td>\n      <td>6808.0</td>\n      <td>6808.0</td>\n      <td>6808.0</td>\n      <td>6808.0</td>\n      <td>6808.0</td>\n      <td>6808.0</td>\n      <td>6808.0</td>\n      <td>6808.0</td>\n      <td>6808.0</td>\n      <td>6808.0</td>\n    </tr>\n    <tr>\n      <th>2</th>\n      <td>2370</td>\n      <td>ARG</td>\n      <td>steel</td>\n      <td>1700000.0</td>\n      <td>ArcelorMittal Acindar Villa Constitución steel...</td>\n      <td>integrated (DRI)</td>\n      <td>-60.300415</td>\n      <td>-33.249936</td>\n      <td>28164.0</td>\n      <td>26884.0</td>\n      <td>...</td>\n      <td>25371.0</td>\n      <td>30554.0</td>\n      <td>32351.0</td>\n      <td>25523.0</td>\n      <td>23674.0</td>\n      <td>23793.0</td>\n      <td>28470.0</td>\n      <td>19893.0</td>\n      <td>29533.0</td>\n      <td>31276.0</td>\n    </tr>\n    <tr>\n      <th>3</th>\n      <td>2371</td>\n      <td>ARG</td>\n      <td>steel</td>\n      <td>1300000.0</td>\n      <td>TenarisSiderca Campana steel plant</td>\n      <td>integrated (DRI)</td>\n      <td>-58.977388</td>\n      <td>-34.152554</td>\n      <td>21537.0</td>\n      <td>20558.0</td>\n      <td>...</td>\n      <td>19402.0</td>\n      <td>23365.0</td>\n      <td>24739.0</td>\n      <td>19518.0</td>\n      <td>18103.0</td>\n      <td>18195.0</td>\n      <td>21771.0</td>\n      <td>15212.0</td>\n      <td>22584.0</td>\n      <td>23917.0</td>\n    </tr>\n    <tr>\n      <th>4</th>\n      <td>2372</td>\n      <td>ARG</td>\n      <td>steel</td>\n      <td>3200000.0</td>\n      <td>Ternium Siderar San Nicolás steel plant</td>\n      <td>integrated (BF)</td>\n      <td>-60.138697</td>\n      <td>-33.373650</td>\n      <td>317156.0</td>\n      <td>317156.0</td>\n      <td>...</td>\n      <td>308826.0</td>\n      <td>253270.0</td>\n      <td>230394.0</td>\n      <td>300656.0</td>\n      <td>207518.0</td>\n      <td>148694.0</td>\n      <td>235296.0</td>\n      <td>267976.0</td>\n      <td>267976.0</td>\n      <td>267976.0</td>\n    </tr>\n    <tr>\n      <th>...</th>\n      <td>...</td>\n      <td>...</td>\n      <td>...</td>\n      <td>...</td>\n      <td>...</td>\n      <td>...</td>\n      <td>...</td>\n      <td>...</td>\n      <td>...</td>\n      <td>...</td>\n      <td>...</td>\n      <td>...</td>\n      <td>...</td>\n      <td>...</td>\n      <td>...</td>\n      <td>...</td>\n      <td>...</td>\n      <td>...</td>\n      <td>...</td>\n      <td>...</td>\n      <td>...</td>\n    </tr>\n    <tr>\n      <th>3290</th>\n      <td>22087062</td>\n      <td>USA</td>\n      <td>aluminum</td>\n      <td>220000.0</td>\n      <td>Sebree aluminium plant</td>\n      <td>Unknown</td>\n      <td>-87.500499</td>\n      <td>37.657434</td>\n      <td>66114.0</td>\n      <td>59761.0</td>\n      <td>...</td>\n      <td>52205.0</td>\n      <td>54609.0</td>\n      <td>52892.0</td>\n      <td>55296.0</td>\n      <td>NaN</td>\n      <td>NaN</td>\n      <td>NaN</td>\n      <td>NaN</td>\n      <td>NaN</td>\n      <td>NaN</td>\n    </tr>\n    <tr>\n      <th>3291</th>\n      <td>22087063</td>\n      <td>USA</td>\n      <td>aluminum</td>\n      <td>187000.0</td>\n      <td>New Madrid aluminium plant</td>\n      <td>Unknown</td>\n      <td>-89.563760</td>\n      <td>36.508977</td>\n      <td>56197.0</td>\n      <td>50796.0</td>\n      <td>...</td>\n      <td>44374.0</td>\n      <td>46417.0</td>\n      <td>44958.0</td>\n      <td>47001.0</td>\n      <td>NaN</td>\n      <td>NaN</td>\n      <td>NaN</td>\n      <td>NaN</td>\n      <td>NaN</td>\n      <td>NaN</td>\n    </tr>\n    <tr>\n      <th>3292</th>\n      <td>22087064</td>\n      <td>USA</td>\n      <td>aluminum</td>\n      <td>135000.0</td>\n      <td>Massena aluminium plant</td>\n      <td>Unknown</td>\n      <td>-74.890160</td>\n      <td>44.961979</td>\n      <td>40570.0</td>\n      <td>36671.0</td>\n      <td>...</td>\n      <td>32035.0</td>\n      <td>33510.0</td>\n      <td>32456.0</td>\n      <td>33931.0</td>\n      <td>NaN</td>\n      <td>NaN</td>\n      <td>NaN</td>\n      <td>NaN</td>\n      <td>NaN</td>\n      <td>NaN</td>\n    </tr>\n    <tr>\n      <th>3293</th>\n      <td>22087065</td>\n      <td>USA</td>\n      <td>aluminum</td>\n      <td>184000.0</td>\n      <td>Mount Holly aluminium plant</td>\n      <td>Unknown</td>\n      <td>-80.054213</td>\n      <td>33.049111</td>\n      <td>55296.0</td>\n      <td>49982.0</td>\n      <td>...</td>\n      <td>43662.0</td>\n      <td>45673.0</td>\n      <td>44237.0</td>\n      <td>46247.0</td>\n      <td>NaN</td>\n      <td>NaN</td>\n      <td>NaN</td>\n      <td>NaN</td>\n      <td>NaN</td>\n      <td>NaN</td>\n    </tr>\n    <tr>\n      <th>3294</th>\n      <td>22087066</td>\n      <td>ZAF</td>\n      <td>aluminum</td>\n      <td>724000.0</td>\n      <td>Richards Bay Hillside aluminium plant</td>\n      <td>Unknown</td>\n      <td>32.031062</td>\n      <td>-28.766982</td>\n      <td>146278.0</td>\n      <td>132980.0</td>\n      <td>...</td>\n      <td>135026.0</td>\n      <td>140141.0</td>\n      <td>134003.0</td>\n      <td>141164.0</td>\n      <td>NaN</td>\n      <td>NaN</td>\n      <td>NaN</td>\n      <td>NaN</td>\n      <td>NaN</td>\n      <td>NaN</td>\n    </tr>\n  </tbody>\n</table>\n<p>3295 rows × 98 columns</p>\n</div>"
     },
     "execution_count": 7,
     "metadata": {},
     "output_type": "execute_result"
    }
   ],
   "source": [
    "data"
   ],
   "metadata": {
    "collapsed": false,
    "pycharm": {
     "name": "#%%\n"
    }
   }
  },
  {
   "cell_type": "code",
   "execution_count": 10,
   "outputs": [
    {
     "data": {
      "text/plain": "array([ 3500000.    ,   700000.    ,  1700000.    ,  1300000.    ,\n        3200000.    ,   650000.    ,  6000000.    ,  1570000.    ,\n        1200000.    ,   790000.    ,   620000.    ,  1000000.    ,\n        1940000.    ,  1008000.    ,  1400000.    ,   580000.    ,\n         800000.    ,  5000000.    ,   850000.    ,  4500000.    ,\n        7500000.    ,  6250000.    ,  3000000.    ,  1100000.    ,\n        3620000.    ,   600000.    ,   950000.    ,   540000.    ,\n         500000.    ,   900000.    ,  2400000.    ,  4050000.    ,\n        2500000.    ,   949000.    ,   668000.    ,  1450000.    ,\n         520000.    , 17600000.    ,  3800000.    ,  1260000.    ,\n        2000000.    ,  8400000.    ,  6800000.    ,  2550000.    ,\n        4620000.    ,  1150000.    ,  1800000.    ,   720000.    ,\n        6500000.    ,  4000000.    ,  8000000.    , 12528000.    ,\n        3220000.    ,  1610000.    , 12500000.    ,  3400000.    ,\n        3335000.    ,  2070000.    ,  1600000.    , 13000000.    ,\n        2160000.    , 13700000.    ,  5500000.    ,  6245000.    ,\n       10000000.    ,  7000000.    , 12000000.    ,  4100000.    ,\n        2200000.    ,  2250000.    ,  2530000.    ,  2760000.    ,\n        3419000.    ,  2600000.    ,  2720000.    ,  3600000.    ,\n        4200000.    ,  2588000.    ,   960000.    , 15910000.    ,\n        4400000.    ,  1660000.    ,   737000.    ,   678000.    ,\n        7250000.    ,  9000000.    , 17500000.    ,  2450000.    ,\n        1095000.    , 27000000.    ,  2210000.    ,  6900000.    ,\n       11000000.    ,  3180000.    ,  2700000.    ,  3050000.    ,\n        1500000.    ,  1140000.    ,  5700000.    ,  7660000.    ,\n        2650000.    ,  4700000.    ,  4600000.    ,  3300000.    ,\n       18700000.    ,  1540000.    ,  2800000.    ,  7100000.    ,\n        3700000.    ,  3450000.    ,  4650000.    ,  5400000.    ,\n       16190000.    , 12940000.    ,  3650000.    ,  1900000.    ,\n        2300000.    ,  5900000.    ,  4300000.    ,   670000.    ,\n        5200000.    ,  1350000.    ,  7300000.    ,  1650000.    ,\n        9200000.    ,  7700000.    ,  8500000.    ,  1725000.    ,\n        7470000.    ,  1010000.    ,  3250000.    ,  3480000.    ,\n        1750000.    ,  6940000.    ,  2440000.    ,  1060000.    ,\n        1120000.    ,  1050000.    ,  3080000.    ,  1380000.    ,\n        1215000.    ,  1575000.    ,   780000.    ,  1110000.    ,\n       11560000.    ,  3240000.    ,  1180000.    ,  2100000.    ,\n        2050000.    ,   750000.    ,   740000.    ,   862500.    ,\n        6750000.    ,  5100000.    ,   730000.    ,   550000.    ,\n        4900000.    ,  1220000.    ,   690000.    ,  5600000.    ,\n         575000.    ,  2570000.    ,   288000.    ,   200000.    ,\n         230000.    ,   860000.    ,   400000.    ,  1250000.    ,\n        1066000.    ,    92400.    ,   100000.    ,   306000.    ,\n         325000.    ,  3850000.    , 11500000.    ,   805000.    ,\n        1495000.    ,  4075000.    ,   852000.    ,  2816000.    ,\n        2583000.    ,  5848000.    ,  8753000.    ,  3599000.    ,\n        7162000.    ,  5490000.    ,  1596000.    ,   660000.    ,\n        1265000.    ,   760000.    ,  4800000.    , 16600000.    ,\n       23000000.    , 17400000.    ,  2110000.    ,  6400000.    ,\n        2086525.5   ,  1330000.    ,  1995807.    ,   762035.4   ,\n         816000.    ,   820000.    ,  1280000.    ,  1340000.    ,\n         840000.    ,  2558000.    ,  2150000.    , 14500000.    ,\n       13200000.    ,   756000.    , 11600000.    ,   726000.    ,\n        1320000.    ,  5800000.    , 10100000.    ,  6080000.    ,\n        6200000.    ,  7254000.    ,   943000.    ,  1753000.    ,\n         965000.    ,  1270000.    ,  1134000.    ,  1905000.    ,\n        2956000.    ,  2304000.    ,   907000.    ,  1542000.    ,\n         891000.    ,  2268000.    ,  1452000.    ,   794000.    ,\n        2632000.    ,   908000.    ,   855000.    ,  1092000.    ,\n        2900000.    ,  1698000.    ,  1111000.    ,  7800000.    ,\n         590000.    ,   725000.    ,   630000.    ,   770000.    ,\n         744000.    ,   573000.    ,   925000.    ,   502000.    ,\n         544000.    ,   617000.    ,   653000.    ,   776000.    ,\n         354000.    ,   680388.75  ,  3150000.    ,   360000.    ,\n        1830000.    ,   300000.    ,  2181428.571 ,  4270000.    ,\n        2090000.    ,   350000.    ,  1721000.    ,  1560000.    ,\n         890000.    ,  1590000.    ,  2540000.    ,  1310000.    ,\n         250000.    ,  1020000.    ,   270000.    ,   641666.6667,\n        2290000.    ,  1262500.    ,  1241000.    ,   338000.    ,\n         166000.    ,   825000.    ,  1520000.    ,  1450303.03  ,\n        1790000.    ,  1730000.    ,  1490000.    ,   930000.    ,\n        1720000.    ,  1040000.    ,   640000.    ,  2040000.    ,\n        1080000.    ,   920000.    ,  1670000.    ,   375000.    ,\n        1475000.    ,  1571000.    ,  1356000.    ,  1176000.    ,\n        1319000.    ,  1157000.    ,  1580000.    ,   645000.    ,\n         996666.6667,  1190000.    ,   940000.    ,   846000.    ,\n         980000.    , 15000000.    ,  1620000.    ,  6600000.    ,\n       12600000.    ,  4860000.    ,  2520000.    ,  1440000.    ,\n       14000000.    ,  2480000.    ,  1470000.    ,  1960000.    ,\n        1290000.    ,  1420000.    ,  1210000.    ,  2420000.    ,\n        1160000.    ,  2940000.    ,  2130000.    ,  1880000.    ,\n        1680000.    ,  2910000.    ,  3190000.    ,  1910000.    ,\n        1370000.    ,  1990000.    ,  1970000.    ,  2080000.    ,\n         970000.    ,  2190000.    ,  2690000.    ,  3590000.    ,\n        2555000.    ,  1410000.    ,  2370000.    ,  3680000.    ,\n        1820000.    ,  1230000.    ,   830000.    ,  2180000.    ,\n        3570000.    ,  1890000.    ,  1530000.    ,  2010000.    ,\n        1510000.    ,  4380000.    ,  1460000.    ,  1640000.    ,\n        2020000.    ,  1130000.    ,  1740000.    ,  1810000.    ,\n        2680000.    ,  1430000.    ,  2030000.    ,  2310000.    ,\n        1870000.    ,  2230000.    ,  1090000.    ,  1840000.    ,\n        3140000.    ,  2510000.    ,  2610000.    ,   910000.    ,\n        2280000.    ,  2930000.    ,  2170000.    ,  1860000.    ,\n        2630000.    ,  1710000.    ,  1630000.    ,  2920000.    ,\n        3430000.    ,  1390000.    ,  1760000.    ,  1550000.    ,\n        2410000.    ,  1930000.    ,  3010000.    ,  3530000.    ,\n         990000.    ,  3740000.    ,  1850000.    ,  2320000.    ,\n        2140000.    ,  1360000.    ,  2960000.    ,  1480000.    ,\n        2820000.    ,  1690000.    ,  2060000.    ,  1070000.    ,\n        1780000.    ,  1240000.    ,  2430000.    ,  2350000.    ,\n        1030000.    ,  2560000.    ,  2120000.    ,  2330000.    ,\n         710000.    ,  3020000.    ,  2220000.    ,  2390000.    ,\n        1170000.    ,  1950000.    ,  3230000.    ,  2710000.    ,\n        2470000.    ,  2870000.    ,  2850000.    ,  3130000.    ,\n         453333.3333,   560000.    ,  1079000.    ,   880000.    ,\n         450000.    ,   210000.    ,   877500.    ,  1625000.    ,\n        2260000.    ,   240000.    ,  2950000.    ,  1518000.    ,\n        1066666.667 ,  3076421.053 ,   410000.    ,  4752000.    ,\n        3615000.    ,  4625000.    , 10600000.    ,    45000.    ,\n        1574240.    ,  1055000.    ,   815000.    ,   936000.    ,\n        2276000.    ,  2590000.    ,   480000.    ,   180000.    ,\n         666666.6667,   110000.    , 20500000.    ,  2742812.5   ,\n        2620000.    ,  8800000.    ,  5980000.    ,   420000.    ,\n        2087394.958 ,  2890000.    ,  1920000.    ,  2640000.    ,\n        3520000.    ,  2340000.    ,  2460000.    ,   290000.    ,\n        2360000.    ,  2750000.    ,  1770000.    ,  1433333.333 ,\n        1278000.    ,  1678562.5   ,   108000.    ,  2270000.    ,\n         165000.    ,  2580000.    ,  3060000.    ,  2740000.    ,\n         198000.    ,  1781000.    ,  1959000.    ,   401000.    ,\n        1542230.769 ,  2770000.    ,   870000.    ,  1844380.287 ,\n        1231250.    ,  1986666.667 ,  1865000.    ,  4350000.    ,\n        1793750.    ,  3090000.    ,  1223333.333 ,   359000.    ,\n         829500.    ,  3410466.667 ,  8100000.    ,  9720000.    ,\n        3260000.    ,  1500769.231 ,  1980000.    ,  2010952.381 ,\n        7200000.    ,  2860000.    ,  1776666.667 ,   340000.    ,\n        2295000.    , 13250000.    ,  5274285.714 ,  2670000.    ,\n        1862500.    ,    50000.    ,  2494200.    ,  2840000.    ,\n         504000.    ,   675000.    ,   576000.    ,  1995000.    ,\n        1781111.111 ,  1616000.    ,  1325000.    ,  1962000.    ,\n        1419000.    ,  4533000.    ,  4139000.    ,  4699000.    ,\n        1774000.    ,  2302000.    ,  1332000.    ,  2708000.    ,\n        2598000.    ,  3075000.    ,  2154000.    ,  2365000.    ,\n       10643000.    ,  2602000.    ,  2394763.158 ,   407000.    ,\n        3770000.    ,  3640000.    ,  3748571.429 ,  3710000.    ,\n        1876666.667 ,  2970000.    ,  1702500.    ,   833333.3333,\n        5320000.    ,  1777310.638 ,   596000.    ,  5068000.    ,\n        1497600.    ,  4140000.    ,  2592000.    ,   810000.    ,\n        1266000.    ,  2269666.667 ,  3120000.    ,  4447000.    ,\n         406800.    ,   682000.    ,   818000.    ,  1697600.    ,\n         490000.    ,   220000.    ,  1829262.295 ,  1793333.333 ,\n        1192000.    ,   510000.    ,   460000.    , 18000000.    ,\n        5472000.    ,  1628000.    ,   329000.    ,   192000.    ,\n         295000.    ,   232000.    ,   280000.    ,   236000.    ,\n         435000.    ,   260000.    ,   320000.    ,   372000.    ,\n         436000.    ,   355000.    ,  1359000.    ,   235000.    ,\n         806000.    ,   842000.    ,   440000.    ,   430000.    ,\n         530000.    ,   380000.    ,   370000.    ,   312000.    ,\n         555000.    ,   330000.    ,  1714000.    ,   954000.    ,\n         453000.    ,   305000.    ,   570000.    ,   170000.    ,\n         135000.    ,   150000.    ,    96000.    ,   285000.    ,\n         145000.    ,    38000.    ,    40000.    ,   190000.    ,\n         415000.    ,   345000.    ,    60000.    ,   105000.    ,\n         104000.    ,    72000.    ,   265000.    ,   120000.    ,\n         204000.    ,    65000.    ,   271000.    ,    95000.    ,\n         662000.    ,   113000.    ,   215000.    ,   545000.    ,\n          70000.    ,   796000.    ,   132000.    ,    75000.    ,\n         161000.    ,   187000.    ,   184000.    ,   724000.    ])"
     },
     "execution_count": 10,
     "metadata": {},
     "output_type": "execute_result"
    }
   ],
   "source": [
    "data['capacity'].unique()"
   ],
   "metadata": {
    "collapsed": false,
    "pycharm": {
     "name": "#%%\n"
    }
   }
  },
  {
   "cell_type": "code",
   "execution_count": null,
   "outputs": [],
   "source": [],
   "metadata": {
    "collapsed": false,
    "pycharm": {
     "name": "#%%\n"
    }
   }
  }
 ],
 "metadata": {
  "kernelspec": {
   "display_name": "Python 3",
   "language": "python",
   "name": "python3"
  },
  "language_info": {
   "codemirror_mode": {
    "name": "ipython",
    "version": 2
   },
   "file_extension": ".py",
   "mimetype": "text/x-python",
   "name": "python",
   "nbconvert_exporter": "python",
   "pygments_lexer": "ipython2",
   "version": "2.7.6"
  }
 },
 "nbformat": 4,
 "nbformat_minor": 0
}