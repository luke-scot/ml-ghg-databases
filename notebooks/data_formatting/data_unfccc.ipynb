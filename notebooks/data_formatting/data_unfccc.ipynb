{
 "cells": [
  {
   "cell_type": "code",
   "execution_count": 1,
   "metadata": {
    "collapsed": true
   },
   "outputs": [],
   "source": [
    "import pandas as pd"
   ]
  },
  {
   "cell_type": "code",
   "execution_count": 3,
   "outputs": [],
   "source": [
    "data_path = \"C:/Users\\lukec\\OneDrive - University of Cambridge\\PhD\\Data/UNFCCC/annexI_allCats_CO2e.csv\"\n",
    "save_path = \"C:/Users\\lukec\\PycharmProjects\\emissions-tracking-conda\\emissions-tracking\\data\\classification_inputs/unfccc\""
   ],
   "metadata": {
    "collapsed": false,
    "pycharm": {
     "name": "#%%\n"
    }
   }
  },
  {
   "cell_type": "code",
   "execution_count": 12,
   "outputs": [
    {
     "name": "stderr",
     "output_type": "stream",
     "text": [
      "C:\\Users\\lukec\\AppData\\Roaming\\Python\\Python39\\site-packages\\pandas\\util\\_decorators.py:311: ParserWarning: Falling back to the 'python' engine because the 'c' engine does not support skipfooter; you can avoid this warning by specifying engine='python'.\n",
      "  return func(*args, **kwargs)\n"
     ]
    }
   ],
   "source": [
    "data = pd.read_csv(data_path, skiprows=3, skipfooter=8)[1:]\n",
    "\n",
    "# Rename columns\n",
    "data.rename(columns={' ':'Party', 'Year':'Category', 'Last Inventory Year (2020)':'2020'}, inplace=True)\n",
    "\n",
    "# Format data as floats and nans if no data\n",
    "years = [str(i) for i in range(1990, 2021)]\n",
    "data[years] = data[years].apply(pd.to_numeric,errors='coerce')\n",
    "data = data.dropna(subset=years)\n",
    "data_pivoted = data.melt(id_vars=['Party', 'Category'], var_name='Year', value_name='Emissions').dropna(subset=['Emissions'])"
   ],
   "metadata": {
    "collapsed": false,
    "pycharm": {
     "name": "#%%\n"
    }
   }
  },
  {
   "cell_type": "code",
   "execution_count": 13,
   "outputs": [],
   "source": [
    "data.to_csv(save_path+'.csv', index=False)\n",
    "data_pivoted.to_csv(save_path+'_melted.csv', index=False)"
   ],
   "metadata": {
    "collapsed": false,
    "pycharm": {
     "name": "#%%\n"
    }
   }
  },
  {
   "cell_type": "code",
   "execution_count": 5,
   "outputs": [],
   "source": [
    "data = pd.read_csv(save_path+'.csv')"
   ],
   "metadata": {
    "collapsed": false,
    "pycharm": {
     "name": "#%%\n"
    }
   }
  },
  {
   "cell_type": "code",
   "execution_count": 7,
   "outputs": [
    {
     "data": {
      "text/plain": "array(['Total GHG emissions without LULUCF',\n       'Total GHG emissions with LULUCF', '1.  Energy',\n       '1.AA  Fuel Combustion - Sectoral approach',\n       '1.A.1  Energy Industries',\n       '1.A.1.a  Public Electricity and Heat Production',\n       '1.A.1.b  Petroleum Refining',\n       '1.A.1.c  Manufacture of Solid Fuels and Other Energy Industries',\n       '1.A.1.c.i  Manufacture of Solid Fuels',\n       '1.A.1.c.ii  Oil and Gas Extraction',\n       '1.A.1.c.iii  Other Energy Industries',\n       '1.A.2  Manufacturing Industries and Construction',\n       '1.A.2.a  Iron and Steel', '1.A.2.b  Non-Ferrous Metals',\n       '1.A.2.c  Chemicals', '1.A.2.d  Pulp, Paper and Print',\n       '1.A.2.e  Food Processing, Beverages and Tobacco',\n       '1.A.2.f  Non-metallic Minerals', '1.A.2.g  Other',\n       '1.A.2.g.i  Manufacturing of Machinery',\n       '1.A.2.g.iii  Mining (Excluding Fuels) and Quarrying',\n       '1.A.2.g.v  Construction', '1.A.2.g.vi  Textile and Leather',\n       '1.A.2.g.viii  Other', '1.A.3  Transport',\n       '1.A.3.a  Domestic Aviation', '1.A.3.b  Road Transportation',\n       '1.A.3.b.i  Cars', '1.A.3.b.ii  Light Duty Trucks',\n       '1.A.3.b.iii  Heavy Duty Trucks and Buses',\n       '1.A.3.b.iv  Motorcycles', '1.A.3.c  Railways',\n       '1.A.3.d  Domestic Navigation', '1.A.3.e  Other Transportation',\n       '1.A.3.e.i  Pipeline Transport', '1.A.3.e.ii  Other',\n       '1.A.4  Other Sectors', '1.A.4.a  Commercial/Institutional',\n       '1.A.4.b  Residential', '1.A.4.b.i  Stationary Combustion',\n       '1.A.4.b.ii  Off-road Vehicles and Other Machinery',\n       '1.A.4.c  Agriculture/Forestry/Fishing', '1.A.4.c.i  Stationary',\n       '1.A.5  Other (Not specified elsewhere)', '1.A.5.b  Mobile',\n       '1.AB  Fuel Combustion - Reference Approach',\n       '1.AD  Feedstocks, Reductants and Other Non-energy Use of Fuels',\n       '1.B  Fugitive Emissions from Fuels', '1.B.1  Solid Fuels',\n       '1.B.1.a  Coal Mining and Handling',\n       '1.B.1.a.i  Underground Mines', '1.B.1.a.i.1  Mining Activities',\n       '1.B.1.a.i.2  Post-Mining Activities',\n       '1.B.1.a.i.3  Abandoned Underground Mines',\n       '1.B.1.a.ii  Surface Mines', '1.B.1.a.ii.1  Mining Activities',\n       '1.B.1.c  Other',\n       '1.B.2  Oil and Natural Gas and Other Emissions from Energy Production',\n       '1.B.2.a  Oil', '1.B.2.a.ii  Production', '1.B.2.a.iii  Transport',\n       '1.B.2.a.iv  Refining / Storage', '1.B.2.a.vi  Other',\n       '1.B.2.b  Natural Gas', '1.B.2.b.i  Exploration',\n       '1.B.2.b.ii  Production', '1.B.2.b.iii  Processing',\n       '1.B.2.b.iv  Transmission and Storage', '1.B.2.b.v  Distribution',\n       '1.B.2.b.vi  Other', '1.B.2.c  Venting and Flaring',\n       '1.B.2.c.i  Venting', '1.B.2.c.i.2  Gas', '1.B.2.c.ii  Flaring',\n       '1.B.2.c.ii.1  Oil', '1.B.2.c.ii.2  Gas', 'International Bunkers',\n       'International Aviation', 'International Navigation',\n       '2.  Industrial Processes and Product Use',\n       '2.A  Mineral Industry', '2.A.1  Cement Production',\n       '2.A.2  Lime Production',\n       '2.A.4  Other Process Uses of Carbonates', '2.A.4.d  Other',\n       '2.B  Chemical Industry', '2.B.1  Ammonia Production',\n       '2.B.2  Nitric Acid Production',\n       '2.B.6  Titanium Dioxide Production',\n       '2.B.8  Petrochemical and Carbon Black Production',\n       '2.B.8.g  Other', '2.B.10  Other', '2.C  Metal Industry',\n       '2.C.3  Aluminium Production', '2.C.3.a  CO₂ Emissions',\n       '2.C.3.b  By-Product Emissions', '2.C.7  Other',\n       '2.D  Non-energy Products from Fuels and Solvent Use',\n       '2.D.1  Lubricant Use', '2.G  Other Product Manufacture and Use',\n       '2.G.1  Electrical Equipment',\n       '2.G.2  SF₆ and PFCs from Other Product Use', '2.G.2.e  Other',\n       '2.H  Other', '2.H.2  Food and Beverages Industry',\n       '3.  Agriculture', '3.A  Enteric Fermentation',\n       '3.B  Manure Management', '3.C  Rice Cultivation',\n       '3.C.1  Irrigated', '3.C.1.a  Continuously Flooded',\n       '3.D  Agricultural Soils',\n       '3.D.1  Direct N₂O Emissions From Managed Soils',\n       '3.D.1.a  Inorganic N Fertilizers',\n       '3.D.1.b  Organic N Fertilizers',\n       '3.D.1.b.i  Animal Manure Applied to Soils',\n       '3.D.1.b.ii  Sewage Sludge Applied to Soils',\n       '3.D.1.c  Urine and Dung Deposited by Grazing Animals',\n       '3.D.1.d  Crop Residues',\n       '3.D.1.e  Mineralization/Immobilization Associated with Loss/Gain of Soil Organic Matter',\n       '3.D.1.f  Cultivation of Organic Soils',\n       '3.D.2  Indirect N₂O Emissions From Managed Soils',\n       '3.D.2.a  Atmospheric Deposition',\n       '3.D.2.b  Nitrogen Leaching and Run-off',\n       '3.F  Field Burning of Agricultural Residues', '3.F.1  Cereals',\n       '3.F.1.a  Wheat', '3.F.1.b  Barley', '3.F.1.c  Maize',\n       '3.F.1.d  Other', '3.F.2  Pulses', '3.F.4  Sugar Cane',\n       '3.F.5  Other', '3.G  Liming', '3.G.1  Limestone CaCO₃',\n       '3.G.2  Dolomite CaMg(CO₃)₂', '3.H  Urea Application',\n       '4.  Land Use, Land-Use Change and Forestry', '4.A  Forest Land',\n       '4.A.1  Forest Land Remaining Forest Land',\n       '4.A.2  Land Converted to Forest Land',\n       '4.A.2.a  Cropland Converted to Forest Land',\n       '4.A.2.b  Grassland Converted to Forest Land',\n       '4.A.2.c  Wetlands Converted to Forest Land',\n       '4.A.2.d  Settlements Converted to Forest Land', '4.B  Cropland',\n       '4.B.1  Cropland Remaining Cropland',\n       '4.B.2  Land Converted to Cropland',\n       '4.B.2.a  Forest Land Converted to Cropland',\n       '4.B.2.c  Wetlands Converted to Cropland', '4.C  Grassland',\n       '4.C.1  Grassland Remaining Grassland',\n       '4.C.2  Land Converted to Grassland',\n       '4.C.2.a  Forest Land Converted to Grassland',\n       '4.C.2.c  Wetlands Converted to Grassland', '4.D  Wetlands',\n       '4.D.1  Wetlands Remaining Wetlands',\n       '4.D.1.c  Other Wetlands Remaining Other Wetlands',\n       '4.D.2  Land Converted to Wetlands', '4.E  Settlements',\n       '4.E.1  Settlements Remaining Settlements',\n       '4.E.2  Land Converted to Settlements',\n       '4.E.2.a  Forest Land Converted to Settlements',\n       '4.G  Harvested Wood Products', '4.G.1  Solid Wood',\n       '4.G.1.a  Sawnwood', '4.G.1.b  Wood Panels',\n       '4.G.2  Paper and Paperboard', '4.G.3  Other', '4.H  Other',\n       '5.  Waste', '5.A  Solid Waste Disposal',\n       '5.A.1  Managed Waste Disposal Sites', '5.A.1.a  Anaerobic',\n       '5.B  Biological Treatment of Solid Waste', '5.B.1  Composting',\n       '5.B.1.a  Municipal Solid Waste',\n       '5.C  Incineration and Open Burning of Waste',\n       '5.C.1  Waste Incineration', '5.C.1.b  Non-biogenic',\n       '5.C.1.b.ii  Other', '5.C.1.b.ii.3  Clinical Waste',\n       '5.C.1.b.ii.6  Other', '5.D  Wastewater Treatment and Discharge',\n       '5.D.1  Domestic Wastewater', '5.D.2  Industrial Wastewater',\n       '1.A.1.a.iv  Other',\n       '1.A.2.g.vii  Off-road Vehicles and Other Machinery',\n       '1.A.4.a.i  Stationary Combustion',\n       '1.A.4.c.ii  Off-road Vehicles and Other Machinery',\n       '2.A.3  Glass production', '2.A.4.a  Ceramics',\n       '2.A.4.b  Other Uses of Soda Ash',\n       '2.A.4.c  Non-metallurgical Magnesium Production',\n       '2.B.5  Carbide Production', '2.B.5.b  Calcium Carbide',\n       '2.B.8.b  Ethylene', '2.C.1  Iron and Steel Production',\n       '2.C.1.a  Steel', '2.C.1.b  Pig Iron', '2.C.1.f  Other',\n       '2.C.2  Ferroalloys Production', '2.C.5  Lead Production',\n       '2.D.2  Paraffin Wax Use', '2.D.3  Other', '2.D.3.a  Solvent Use',\n       '2.E  Electronics Industry',\n       '2.E.1  Integrated Circuit or Semiconductor',\n       '2.G.2.c  Soundproof Windows', '2.G.3  N₂O from Product Uses',\n       '2.G.3.a  Medical Applications', '2.G.3.b  Other',\n       '2.G.3.b.i  Propellant for Pressure and Aerosol Products',\n       '3.D.1.b.iii  Other Organic Fertilizers Applied to Soils',\n       '3.I  Other Carbon-containing Fertilizers',\n       '4.A.2.e  Other Land Converted to Forest Land',\n       '4.B.2.b  Grassland Converted to Cropland',\n       '4.C.2.b  Cropland Converted to Grassland',\n       '4.E.2.b  Cropland Converted to Settlements',\n       '4.E.2.c  Grassland Converted to Settlements', '4.F  Other Land',\n       '4.F.2  Land Converted to Other Land',\n       '4.F.2.a  Forest Land Converted to Other Land',\n       '5.C.1.b.ii.5  Fossil Liquid Waste',\n       '1.A.2.g.ii  Manufacturing of Transport Equipment',\n       '1.A.2.g.iv  Wood and Wood Products', '1.A.3.b.v  Other',\n       '1.A.5.a  Stationary',\n       'Waste Incineration with Energy Recovery included as Biomass',\n       '1.B.2.c.ii.3  Combined',\n       '2.B.4  Caprolactam, Glyoxal and Glyoxylic Acid Production',\n       '2.B.4.a  Caprolactam', '2.B.7  Soda Ash Production',\n       '2.B.8.e  Acrylonitrile',\n       '4.D.1.a  Peat Extraction Remaining Peat Extraction',\n       '5.A.3  Uncategorized Waste Disposal Sites',\n       '5.C.1.b.ii.1  Industrial Solid Wastes',\n       '1.A.1.a.i  Electricity Generation', '1.A.4.c.iii  Fishing',\n       'Waste Incineration with Energy Recovery included as Fossil Fuels',\n       '2.B.8.g.ii  Other', '2.B.9  Fluorochemical Production',\n       '2.B.9.a  By-Product Emissions', '2.B.9.a.ii  Other',\n       '2.B.9.b  Fugitive Emissions', '2.B.9.b.iii  Other',\n       '2.C.1.d  Sinter', '2.C.6  Zinc Production',\n       '4.C.2.d  Settlements Converted to Grassland',\n       '4.E.2.d  Wetlands Converted to Settlements', '5.C.1.a  Biogenic',\n       '5.C.1.a.i  Municipal Solid Waste',\n       '5.C.1.b.i  Municipal Solid Waste',\n       '1.A.1.a.ii  Combined Heat and Power Generation',\n       '1.A.1.a.iii  Heat Plants', '1.B.1.a.ii.2  Post-Mining Activities',\n       '1.B.1.b  Solid Fuel Transformation', '1.B.2.a.i  Exploration',\n       '2.G.4  Other', '3.F.3  Tubers and Roots',\n       '4.C.2.e  Other Land Converted to Grassland',\n       '4.E.2.e  Other Land Converted to Settlements',\n       '5.A.2  Unmanaged Waste Disposal Sites', '5.C.1.a.ii  Other',\n       '5.C.1.a.ii.2  Hazardous Waste', '5.C.1.a.ii.3  Clinical Waste',\n       '5.C.1.b.ii.2  Hazardous Waste',\n       'Total GHG emissions with LULUCF including indirect CO₂',\n       '1.A.4.a.ii  Off-road Vehicles and Other Machinery',\n       '1.B.2.c.i.1  Oil', '1.B.2.c.i.3  Combined',\n       '2.C.3.c  F-gases Used in Foundries',\n       '2.C.4  Magnesium Production', '2.D.3.d  Other',\n       '4.D.1.b  Flooded Land Remaining Flooded Land',\n       '4.G.1.c  Other Solid Wood Products',\n       '5.C.1.a.ii.4  Sewage Sludge', '5.E  Other',\n       '2.D.3.b  Road Paving with Asphalt', '2.D.3.c  Asphalt Roofing',\n       'Total GHG emissions without LULUCF including indirect CO₂',\n       '1.A.1.c.iv  Other', '1.A.4.b.iii  Other',\n       '4.B.2.d  Settlements Converted to Cropland', 'HWP in SWDS',\n       '2.B.8.c  Ethylene Dichloride and Vinyl Chloride Monomer',\n       '2.B.8.g.i  Styrene', '2.G.2.b  Accelerators',\n       '5.C.1.a.ii.1  Industrial Solid Wastes', '5.B.1.b  Other',\n       '5.B.2  Anaerobic Digestion at Biogas Facilities',\n       '5.B.2.b  Other', '5.C.1.a.ii.5  Other',\n       '5.C.2  Open Burning of Waste', '5.C.2.a  Biogenic',\n       '5.C.2.a.i  Municipal Solid Waste', '5.C.2.b  Non-biogenic',\n       '5.C.2.b.i  Municipal Solid Waste', '1.B.2.d  Other',\n       'Multilateral Operations', '2.B.3  Adipic Acid Production',\n       '2.B.4.c  Glyoxylic Acid', '2.B.5.a  Silicon Carbide',\n       '2.B.8.d  Ethylene Oxide', '2.B.8.f  Carbon Black',\n       '2.B.9.a.i  Production of HCFC-22',\n       '2.B.9.b.ii  Production of SF₆', '2.C.1.e  Pellet',\n       '2.F  Product Uses as Substitutes for ODS',\n       '2.F.1  Refrigeration and Air-conditioning',\n       '2.F.1.a  Commercial Refrigeration',\n       '2.F.1.b  Domestic Refrigeration',\n       '2.F.1.c  Industrial Refrigeration',\n       '2.F.1.e  Mobile Air-conditioning',\n       '2.F.1.f  Stationary Air-conditioning', '2.F.4  Aerosols',\n       '2.F.4.a  Metered Dose Inhalers', '2.F.4.b  Other',\n       '2.F.6  Other Applications', '2.F.6.b  Contained',\n       '2.G.2.d  Adiabatic Properties: Shoes and Tyres',\n       '2.H.1  Pulp and Paper', '2.H.3  Other',\n       '3.C.1.b  Intermittently Flooded', '3.C.1.b.i  Single Aeration',\n       '3.C.1.b.ii  Multiple Aeration', '3.J  Other',\n       '4.B.2.e  Other Land Converted to Cropland',\n       '4.F.2.b  Cropland Converted to Other Land',\n       '4.F.2.c  Grassland Converted  to Other Land',\n       '4.F.2.d  Wetlands Converted to Other Land',\n       '4.F.2.e  Settlements Converted to Other Land',\n       '5.A.1.b  Semi-aerobic', '5.B.2.a  Municipal Solid Waste',\n       '5.C.2.a.ii  Other', '5.C.2.b.ii  Other', '5.D.3  Other',\n       '1.B.2.a.v  Distribution of Oil Products', '2.G.3.b.ii  Other',\n       '2.E.2  TFT Flat Panel Display', '2.F.5  Solvents',\n       '2.F.1.d  Transport Refrigeration', '3.D.1.g  Other',\n       '2.B.8.a  Methanol', '6.  Other', '2.C.1.c  Direct Reduced Iron',\n       '2.E.3  Photovoltaics', '2.F.3  Fire Protection',\n       '1.C  CO₂ Transport and Storage', '1.C.1  Transport of CO₂',\n       '1.C.1.a  Pipelines',\n       'Total Leakage from Transport, Injection and Storage'],\n      dtype=object)"
     },
     "execution_count": 7,
     "metadata": {},
     "output_type": "execute_result"
    }
   ],
   "source": [
    "data['Category'].unique()"
   ],
   "metadata": {
    "collapsed": false,
    "pycharm": {
     "name": "#%%\n"
    }
   }
  },
  {
   "cell_type": "code",
   "execution_count": null,
   "outputs": [],
   "source": [],
   "metadata": {
    "collapsed": false,
    "pycharm": {
     "name": "#%%\n"
    }
   }
  }
 ],
 "metadata": {
  "kernelspec": {
   "display_name": "Python 3",
   "language": "python",
   "name": "python3"
  },
  "language_info": {
   "codemirror_mode": {
    "name": "ipython",
    "version": 2
   },
   "file_extension": ".py",
   "mimetype": "text/x-python",
   "name": "python",
   "nbconvert_exporter": "python",
   "pygments_lexer": "ipython2",
   "version": "2.7.6"
  }
 },
 "nbformat": 4,
 "nbformat_minor": 0
}