{
 "cells": [
  {
   "cell_type": "code",
   "execution_count": 1,
   "metadata": {
    "collapsed": true
   },
   "outputs": [],
   "source": [
    "import numpy as np\n",
    "import pandas as pd"
   ]
  },
  {
   "cell_type": "code",
   "execution_count": 2,
   "outputs": [],
   "source": [
    "## File paths\n",
    "data_path = 'C:/Users\\lukec\\PycharmProjects\\petrochemical-data\\data\\combined\\icisFacilityEmissions_ihsWeighted_w_uncertainties_allgases_fert2050_3.parquet'\n",
    "\n",
    "save_path = \"C:/Users\\lukec\\PycharmProjects\\emissions-tracking-conda\\emissions-tracking\\data\\classification_inputs/petrochemicals\""
   ],
   "metadata": {
    "collapsed": false,
    "pycharm": {
     "name": "#%%\n"
    }
   }
  },
  {
   "cell_type": "code",
   "execution_count": 3,
   "outputs": [],
   "source": [
    "def filter_df(df:pd.DataFrame, cols:list, filters:list) -> pd.DataFrame:\n",
    "    \"\"\"Function for filtering a pandas dataframe based on column values\"\"\"\n",
    "    for col, filt in zip(cols, filters):\n",
    "        df = df[[i in filt for i in df[col]]]\n",
    "    return df"
   ],
   "metadata": {
    "collapsed": false,
    "pycharm": {
     "name": "#%%\n"
    }
   }
  },
  {
   "cell_type": "code",
   "execution_count": 4,
   "outputs": [
    {
     "data": {
      "text/plain": "          PRODUCT COUNTRY/TERRITORY                      COMPANY  \\\n0  1,4-BUTANEDIOL           BELGIUM                         BASF   \n1  1,4-BUTANEDIOL             CHINA     BLUESTAR  NEW CHEM. MAT.   \n2  1,4-BUTANEDIOL             CHINA     BLUESTAR  NEW CHEM. MAT.   \n3  1,4-BUTANEDIOL             CHINA  CHANGLIAN CHEMICAL (PANJIN)   \n4  1,4-BUTANEDIOL             CHINA     CHANGZHOU CHEMICAL PLANT   \n\n              ROUTE         TECHNOLOGY       SITE    # COMPLEX  \\\n0  MALEIC ANHYDRIDE          HYDRATION      FELUY  1.0    n.a.   \n1  MALEIC ANHYDRIDE          HYDRATION    NANJING  1.0    n.a.   \n2  MALEIC ANHYDRIDE          HYDRATION    NANJING  2.0    n.a.   \n3   PROPYLENE OXIDE  VIA ALLYL ALCOHOL     PANJIN  1.0       0   \n4  MALEIC ANHYDRIDE          HYDRATION  CHANGZHOU  1.0    n.a.   \n\n                LICENSOR  START_YR  ...        2042        2043        2044  \\\n0  KVAERNER PROCESS TECH    1997.0  ...    0.000000    0.000000    0.000000   \n1  KVAERNER PROCESS TECH    2009.0  ...    0.000000    0.000000    0.000000   \n2                   n.a.    2012.0  ...    0.000000    0.000000    0.000000   \n3                   n.a.    2014.0  ...  297.751361  305.600962  312.993304   \n4                   SINO    1998.0  ...    0.000000    0.000000    0.000000   \n\n         2045       2046        2047        2048        2049        2050  \\\n0    0.000000    0.00000    0.000000    0.000000    0.000000    0.000000   \n1    0.000000    0.00000    0.000000    0.000000    0.000000    0.000000   \n2    0.000000    0.00000    0.000000    0.000000    0.000000    0.000000   \n3  320.309437  327.62557  334.941702  342.257835  349.573968  356.890101   \n4    0.000000    0.00000    0.000000    0.000000    0.000000    0.000000   \n\n   END_YR  \n0  2007.0  \n1  2016.0  \n2  2016.0  \n3  2050.0  \n4  2008.0  \n\n[5 rows x 86 columns]",
      "text/html": "<div>\n<style scoped>\n    .dataframe tbody tr th:only-of-type {\n        vertical-align: middle;\n    }\n\n    .dataframe tbody tr th {\n        vertical-align: top;\n    }\n\n    .dataframe thead th {\n        text-align: right;\n    }\n</style>\n<table border=\"1\" class=\"dataframe\">\n  <thead>\n    <tr style=\"text-align: right;\">\n      <th></th>\n      <th>PRODUCT</th>\n      <th>COUNTRY/TERRITORY</th>\n      <th>COMPANY</th>\n      <th>ROUTE</th>\n      <th>TECHNOLOGY</th>\n      <th>SITE</th>\n      <th>#</th>\n      <th>COMPLEX</th>\n      <th>LICENSOR</th>\n      <th>START_YR</th>\n      <th>...</th>\n      <th>2042</th>\n      <th>2043</th>\n      <th>2044</th>\n      <th>2045</th>\n      <th>2046</th>\n      <th>2047</th>\n      <th>2048</th>\n      <th>2049</th>\n      <th>2050</th>\n      <th>END_YR</th>\n    </tr>\n  </thead>\n  <tbody>\n    <tr>\n      <th>0</th>\n      <td>1,4-BUTANEDIOL</td>\n      <td>BELGIUM</td>\n      <td>BASF</td>\n      <td>MALEIC ANHYDRIDE</td>\n      <td>HYDRATION</td>\n      <td>FELUY</td>\n      <td>1.0</td>\n      <td>n.a.</td>\n      <td>KVAERNER PROCESS TECH</td>\n      <td>1997.0</td>\n      <td>...</td>\n      <td>0.000000</td>\n      <td>0.000000</td>\n      <td>0.000000</td>\n      <td>0.000000</td>\n      <td>0.00000</td>\n      <td>0.000000</td>\n      <td>0.000000</td>\n      <td>0.000000</td>\n      <td>0.000000</td>\n      <td>2007.0</td>\n    </tr>\n    <tr>\n      <th>1</th>\n      <td>1,4-BUTANEDIOL</td>\n      <td>CHINA</td>\n      <td>BLUESTAR  NEW CHEM. MAT.</td>\n      <td>MALEIC ANHYDRIDE</td>\n      <td>HYDRATION</td>\n      <td>NANJING</td>\n      <td>1.0</td>\n      <td>n.a.</td>\n      <td>KVAERNER PROCESS TECH</td>\n      <td>2009.0</td>\n      <td>...</td>\n      <td>0.000000</td>\n      <td>0.000000</td>\n      <td>0.000000</td>\n      <td>0.000000</td>\n      <td>0.00000</td>\n      <td>0.000000</td>\n      <td>0.000000</td>\n      <td>0.000000</td>\n      <td>0.000000</td>\n      <td>2016.0</td>\n    </tr>\n    <tr>\n      <th>2</th>\n      <td>1,4-BUTANEDIOL</td>\n      <td>CHINA</td>\n      <td>BLUESTAR  NEW CHEM. MAT.</td>\n      <td>MALEIC ANHYDRIDE</td>\n      <td>HYDRATION</td>\n      <td>NANJING</td>\n      <td>2.0</td>\n      <td>n.a.</td>\n      <td>n.a.</td>\n      <td>2012.0</td>\n      <td>...</td>\n      <td>0.000000</td>\n      <td>0.000000</td>\n      <td>0.000000</td>\n      <td>0.000000</td>\n      <td>0.00000</td>\n      <td>0.000000</td>\n      <td>0.000000</td>\n      <td>0.000000</td>\n      <td>0.000000</td>\n      <td>2016.0</td>\n    </tr>\n    <tr>\n      <th>3</th>\n      <td>1,4-BUTANEDIOL</td>\n      <td>CHINA</td>\n      <td>CHANGLIAN CHEMICAL (PANJIN)</td>\n      <td>PROPYLENE OXIDE</td>\n      <td>VIA ALLYL ALCOHOL</td>\n      <td>PANJIN</td>\n      <td>1.0</td>\n      <td>0</td>\n      <td>n.a.</td>\n      <td>2014.0</td>\n      <td>...</td>\n      <td>297.751361</td>\n      <td>305.600962</td>\n      <td>312.993304</td>\n      <td>320.309437</td>\n      <td>327.62557</td>\n      <td>334.941702</td>\n      <td>342.257835</td>\n      <td>349.573968</td>\n      <td>356.890101</td>\n      <td>2050.0</td>\n    </tr>\n    <tr>\n      <th>4</th>\n      <td>1,4-BUTANEDIOL</td>\n      <td>CHINA</td>\n      <td>CHANGZHOU CHEMICAL PLANT</td>\n      <td>MALEIC ANHYDRIDE</td>\n      <td>HYDRATION</td>\n      <td>CHANGZHOU</td>\n      <td>1.0</td>\n      <td>n.a.</td>\n      <td>SINO</td>\n      <td>1998.0</td>\n      <td>...</td>\n      <td>0.000000</td>\n      <td>0.000000</td>\n      <td>0.000000</td>\n      <td>0.000000</td>\n      <td>0.00000</td>\n      <td>0.000000</td>\n      <td>0.000000</td>\n      <td>0.000000</td>\n      <td>0.000000</td>\n      <td>2008.0</td>\n    </tr>\n  </tbody>\n</table>\n<p>5 rows × 86 columns</p>\n</div>"
     },
     "execution_count": 4,
     "metadata": {},
     "output_type": "execute_result"
    }
   ],
   "source": [
    "## Import and manipulate facility data\n",
    "facilities = pd.read_parquet(data_path)\n",
    "\n",
    "# Use only one target\n",
    "gas_t, type_t = 'CO2e_100a', ['Feedstock', 'Organic chemicals', 'Primary chemicals', 'Other intermediates', 'Direct Utilities', 'Indirect Utilities', 'Direct Process']\n",
    "used = filter_df(facilities, ['Gas', 'Type'], [[gas_t], type_t])\n",
    "\n",
    "# Get correct columns\n",
    "columns = ['PRODUCT', 'COUNTRY/TERRITORY', 'COMPANY', 'ROUTE', 'TECHNOLOGY','SITE', '#', 'COMPLEX', 'LICENSOR', 'START_YR', 'LATITUDE', 'LONGITUDE']\n",
    "used = used.groupby(columns).sum().reset_index()\n",
    "\n",
    "years = [str(i) for i in range(1978, 2051)]\n",
    "used = used[columns+years]\n",
    "\n",
    "# Define start year as first year with value if unspecified + find end year\n",
    "used['START_YR'] = np.where(used['START_YR'].replace('n.a.', 0).astype(float).lt(1), used[years].transpose().ne(0).idxmax(), used['START_YR']).astype(float)\n",
    "used['END_YR'] = used[list(reversed(years))].transpose().ne(0).idxmax().astype(float)\n",
    "\n",
    "# Only take actual facilities and not country fillers\n",
    "used = used[[i not in ['n.a.', '~ADDITIONAL'] for i in used['COMPANY']]]\n",
    "used[['LATITUDE', 'LONGITUDE']+years] = used[['LATITUDE', 'LONGITUDE']+years].astype(float)\n",
    "used = used.drop_duplicates()\n",
    "\n",
    "used.head()"
   ],
   "metadata": {
    "collapsed": false,
    "pycharm": {
     "name": "#%%\n"
    }
   }
  },
  {
   "cell_type": "code",
   "execution_count": 5,
   "outputs": [],
   "source": [
    "def convert_to_yearly(df, columns, years) -> pd.DataFrame:\n",
    "    \"\"\"Convert dataframe of plants with entry for each year into dataframe with row for each year\"\"\"\n",
    "    # Convert to yearly\n",
    "    yearly = pd.melt(df, id_vars=columns+['END_YR'], value_vars=years, var_name='Year', value_name='Emissions')\n",
    "\n",
    "    # Get rid of emissions for years before start year\n",
    "    yearly['Age'] = yearly['Year'].astype(int) - yearly['START_YR'].astype(int)\n",
    "    yearly = yearly[yearly['Age'] >= 0]\n",
    "\n",
    "    # Get rid of emissions for years after end years\n",
    "    yearly['ToGo'] = yearly['END_YR'].astype(int) - yearly['Year'].astype(int)\n",
    "    yearly = yearly[yearly['ToGo'] >= 0]\n",
    "\n",
    "    return yearly.drop(columns=['ToGo'])\n",
    "\n",
    "used_pivoted = convert_to_yearly(used, columns, years)"
   ],
   "metadata": {
    "collapsed": false,
    "pycharm": {
     "name": "#%%\n"
    }
   }
  },
  {
   "cell_type": "code",
   "execution_count": 6,
   "outputs": [],
   "source": [
    "used.to_csv(save_path+'.csv', index=False)\n",
    "used_pivoted.to_csv(save_path+'_melted.csv', index=False)"
   ],
   "metadata": {
    "collapsed": false,
    "pycharm": {
     "name": "#%%\n"
    }
   }
  },
  {
   "cell_type": "code",
   "execution_count": 3,
   "outputs": [
    {
     "data": {
      "text/plain": "                PRODUCT COUNTRY/TERRITORY                      COMPANY  \\\n0        1,4-BUTANEDIOL           BELGIUM                         BASF   \n1        1,4-BUTANEDIOL             CHINA     BLUESTAR  NEW CHEM. MAT.   \n2        1,4-BUTANEDIOL             CHINA     BLUESTAR  NEW CHEM. MAT.   \n3        1,4-BUTANEDIOL             CHINA  CHANGLIAN CHEMICAL (PANJIN)   \n4        1,4-BUTANEDIOL             CHINA     CHANGZHOU CHEMICAL PLANT   \n...                 ...               ...                          ...   \n29159  VINYL ACETATE M.     UNITED STATES                     CELANESE   \n29160  VINYL ACETATE M.     UNITED STATES                 DOW CHEMICAL   \n29161  VINYL ACETATE M.     UNITED STATES                INEOS ACETYLS   \n29162  VINYL ACETATE M.     UNITED STATES                  KURARAY CO.   \n29163  VINYL ACETATE M.     UNITED STATES    LYONDELLBASELL INDUSTRIES   \n\n                  ROUTE         TECHNOLOGY           SITE    # COMPLEX  \\\n0      MALEIC ANHYDRIDE          HYDRATION          FELUY  1.0    n.a.   \n1      MALEIC ANHYDRIDE          HYDRATION        NANJING  1.0    n.a.   \n2      MALEIC ANHYDRIDE          HYDRATION        NANJING  2.0    n.a.   \n3       PROPYLENE OXIDE  VIA ALLYL ALCOHOL         PANJIN  1.0       0   \n4      MALEIC ANHYDRIDE          HYDRATION      CHANGZHOU  1.0    n.a.   \n...                 ...                ...            ...  ...     ...   \n29159          ETHYLENE      ACETOXYLATION  CLEAR LAKE/TX  1.0       0   \n29160          ETHYLENE      ACETOXYLATION  TEXAS CITY/TX  1.0       *   \n29161          ETHYLENE               n.a.   ~UNKNOWN USA  1.0       0   \n29162          ETHYLENE      ACETOXYLATION    LA PORTE/TX  1.0    n.a.   \n29163          ETHYLENE      ACETOXYLATION    LA PORTE/TX  1.0    n.a.   \n\n                    LICENSOR  START_YR  ...        2042        2043  \\\n0      KVAERNER PROCESS TECH    1997.0  ...    0.000000    0.000000   \n1      KVAERNER PROCESS TECH    2009.0  ...    0.000000    0.000000   \n2                       n.a.    2012.0  ...    0.000000    0.000000   \n3                       n.a.    2014.0  ...  297.751361  305.600962   \n4                       SINO    1998.0  ...    0.000000    0.000000   \n...                      ...       ...  ...         ...         ...   \n29159                    ICI    1978.0  ...  674.553535  672.120693   \n29160                  BAYER    1976.0  ...  547.137867  545.164562   \n29161                   n.a.    2026.0  ...  449.702357  448.080462   \n29162                   n.a.    1978.0  ...  502.167631  500.356516   \n29163                QUANTUM    1970.0  ...  577.118024  575.036593   \n\n             2044        2045        2046        2047        2048        2049  \\\n0        0.000000    0.000000    0.000000    0.000000    0.000000    0.000000   \n1        0.000000    0.000000    0.000000    0.000000    0.000000    0.000000   \n2        0.000000    0.000000    0.000000    0.000000    0.000000    0.000000   \n3      312.993304  320.309437  327.625570  334.941702  342.257835  349.573968   \n4        0.000000    0.000000    0.000000    0.000000    0.000000    0.000000   \n...           ...         ...         ...         ...         ...         ...   \n29159  669.770742  667.499516  665.303125  663.177930  661.120524  659.127714   \n29160  543.258491  541.416274  539.634757  537.910987  536.242202  534.625813   \n29161  446.513828  444.999678  443.535417  442.118620  440.747016  439.418476   \n29162  498.607108  496.916307  495.281215  493.699125  492.167501  490.683965   \n29163  573.026079  571.082920  569.203785  567.385562  565.625337  563.920378   \n\n             2050  END_YR  \n0        0.000000  2007.0  \n1        0.000000  2016.0  \n2        0.000000  2016.0  \n3      356.890101  2050.0  \n4        0.000000  2008.0  \n...           ...     ...  \n29159  657.196506  2050.0  \n29160  533.059388  2050.0  \n29161  438.131004  2050.0  \n29162  489.246288  2050.0  \n29163  562.268122  2050.0  \n\n[29164 rows x 86 columns]",
      "text/html": "<div>\n<style scoped>\n    .dataframe tbody tr th:only-of-type {\n        vertical-align: middle;\n    }\n\n    .dataframe tbody tr th {\n        vertical-align: top;\n    }\n\n    .dataframe thead th {\n        text-align: right;\n    }\n</style>\n<table border=\"1\" class=\"dataframe\">\n  <thead>\n    <tr style=\"text-align: right;\">\n      <th></th>\n      <th>PRODUCT</th>\n      <th>COUNTRY/TERRITORY</th>\n      <th>COMPANY</th>\n      <th>ROUTE</th>\n      <th>TECHNOLOGY</th>\n      <th>SITE</th>\n      <th>#</th>\n      <th>COMPLEX</th>\n      <th>LICENSOR</th>\n      <th>START_YR</th>\n      <th>...</th>\n      <th>2042</th>\n      <th>2043</th>\n      <th>2044</th>\n      <th>2045</th>\n      <th>2046</th>\n      <th>2047</th>\n      <th>2048</th>\n      <th>2049</th>\n      <th>2050</th>\n      <th>END_YR</th>\n    </tr>\n  </thead>\n  <tbody>\n    <tr>\n      <th>0</th>\n      <td>1,4-BUTANEDIOL</td>\n      <td>BELGIUM</td>\n      <td>BASF</td>\n      <td>MALEIC ANHYDRIDE</td>\n      <td>HYDRATION</td>\n      <td>FELUY</td>\n      <td>1.0</td>\n      <td>n.a.</td>\n      <td>KVAERNER PROCESS TECH</td>\n      <td>1997.0</td>\n      <td>...</td>\n      <td>0.000000</td>\n      <td>0.000000</td>\n      <td>0.000000</td>\n      <td>0.000000</td>\n      <td>0.000000</td>\n      <td>0.000000</td>\n      <td>0.000000</td>\n      <td>0.000000</td>\n      <td>0.000000</td>\n      <td>2007.0</td>\n    </tr>\n    <tr>\n      <th>1</th>\n      <td>1,4-BUTANEDIOL</td>\n      <td>CHINA</td>\n      <td>BLUESTAR  NEW CHEM. MAT.</td>\n      <td>MALEIC ANHYDRIDE</td>\n      <td>HYDRATION</td>\n      <td>NANJING</td>\n      <td>1.0</td>\n      <td>n.a.</td>\n      <td>KVAERNER PROCESS TECH</td>\n      <td>2009.0</td>\n      <td>...</td>\n      <td>0.000000</td>\n      <td>0.000000</td>\n      <td>0.000000</td>\n      <td>0.000000</td>\n      <td>0.000000</td>\n      <td>0.000000</td>\n      <td>0.000000</td>\n      <td>0.000000</td>\n      <td>0.000000</td>\n      <td>2016.0</td>\n    </tr>\n    <tr>\n      <th>2</th>\n      <td>1,4-BUTANEDIOL</td>\n      <td>CHINA</td>\n      <td>BLUESTAR  NEW CHEM. MAT.</td>\n      <td>MALEIC ANHYDRIDE</td>\n      <td>HYDRATION</td>\n      <td>NANJING</td>\n      <td>2.0</td>\n      <td>n.a.</td>\n      <td>n.a.</td>\n      <td>2012.0</td>\n      <td>...</td>\n      <td>0.000000</td>\n      <td>0.000000</td>\n      <td>0.000000</td>\n      <td>0.000000</td>\n      <td>0.000000</td>\n      <td>0.000000</td>\n      <td>0.000000</td>\n      <td>0.000000</td>\n      <td>0.000000</td>\n      <td>2016.0</td>\n    </tr>\n    <tr>\n      <th>3</th>\n      <td>1,4-BUTANEDIOL</td>\n      <td>CHINA</td>\n      <td>CHANGLIAN CHEMICAL (PANJIN)</td>\n      <td>PROPYLENE OXIDE</td>\n      <td>VIA ALLYL ALCOHOL</td>\n      <td>PANJIN</td>\n      <td>1.0</td>\n      <td>0</td>\n      <td>n.a.</td>\n      <td>2014.0</td>\n      <td>...</td>\n      <td>297.751361</td>\n      <td>305.600962</td>\n      <td>312.993304</td>\n      <td>320.309437</td>\n      <td>327.625570</td>\n      <td>334.941702</td>\n      <td>342.257835</td>\n      <td>349.573968</td>\n      <td>356.890101</td>\n      <td>2050.0</td>\n    </tr>\n    <tr>\n      <th>4</th>\n      <td>1,4-BUTANEDIOL</td>\n      <td>CHINA</td>\n      <td>CHANGZHOU CHEMICAL PLANT</td>\n      <td>MALEIC ANHYDRIDE</td>\n      <td>HYDRATION</td>\n      <td>CHANGZHOU</td>\n      <td>1.0</td>\n      <td>n.a.</td>\n      <td>SINO</td>\n      <td>1998.0</td>\n      <td>...</td>\n      <td>0.000000</td>\n      <td>0.000000</td>\n      <td>0.000000</td>\n      <td>0.000000</td>\n      <td>0.000000</td>\n      <td>0.000000</td>\n      <td>0.000000</td>\n      <td>0.000000</td>\n      <td>0.000000</td>\n      <td>2008.0</td>\n    </tr>\n    <tr>\n      <th>...</th>\n      <td>...</td>\n      <td>...</td>\n      <td>...</td>\n      <td>...</td>\n      <td>...</td>\n      <td>...</td>\n      <td>...</td>\n      <td>...</td>\n      <td>...</td>\n      <td>...</td>\n      <td>...</td>\n      <td>...</td>\n      <td>...</td>\n      <td>...</td>\n      <td>...</td>\n      <td>...</td>\n      <td>...</td>\n      <td>...</td>\n      <td>...</td>\n      <td>...</td>\n      <td>...</td>\n    </tr>\n    <tr>\n      <th>29159</th>\n      <td>VINYL ACETATE M.</td>\n      <td>UNITED STATES</td>\n      <td>CELANESE</td>\n      <td>ETHYLENE</td>\n      <td>ACETOXYLATION</td>\n      <td>CLEAR LAKE/TX</td>\n      <td>1.0</td>\n      <td>0</td>\n      <td>ICI</td>\n      <td>1978.0</td>\n      <td>...</td>\n      <td>674.553535</td>\n      <td>672.120693</td>\n      <td>669.770742</td>\n      <td>667.499516</td>\n      <td>665.303125</td>\n      <td>663.177930</td>\n      <td>661.120524</td>\n      <td>659.127714</td>\n      <td>657.196506</td>\n      <td>2050.0</td>\n    </tr>\n    <tr>\n      <th>29160</th>\n      <td>VINYL ACETATE M.</td>\n      <td>UNITED STATES</td>\n      <td>DOW CHEMICAL</td>\n      <td>ETHYLENE</td>\n      <td>ACETOXYLATION</td>\n      <td>TEXAS CITY/TX</td>\n      <td>1.0</td>\n      <td>*</td>\n      <td>BAYER</td>\n      <td>1976.0</td>\n      <td>...</td>\n      <td>547.137867</td>\n      <td>545.164562</td>\n      <td>543.258491</td>\n      <td>541.416274</td>\n      <td>539.634757</td>\n      <td>537.910987</td>\n      <td>536.242202</td>\n      <td>534.625813</td>\n      <td>533.059388</td>\n      <td>2050.0</td>\n    </tr>\n    <tr>\n      <th>29161</th>\n      <td>VINYL ACETATE M.</td>\n      <td>UNITED STATES</td>\n      <td>INEOS ACETYLS</td>\n      <td>ETHYLENE</td>\n      <td>n.a.</td>\n      <td>~UNKNOWN USA</td>\n      <td>1.0</td>\n      <td>0</td>\n      <td>n.a.</td>\n      <td>2026.0</td>\n      <td>...</td>\n      <td>449.702357</td>\n      <td>448.080462</td>\n      <td>446.513828</td>\n      <td>444.999678</td>\n      <td>443.535417</td>\n      <td>442.118620</td>\n      <td>440.747016</td>\n      <td>439.418476</td>\n      <td>438.131004</td>\n      <td>2050.0</td>\n    </tr>\n    <tr>\n      <th>29162</th>\n      <td>VINYL ACETATE M.</td>\n      <td>UNITED STATES</td>\n      <td>KURARAY CO.</td>\n      <td>ETHYLENE</td>\n      <td>ACETOXYLATION</td>\n      <td>LA PORTE/TX</td>\n      <td>1.0</td>\n      <td>n.a.</td>\n      <td>n.a.</td>\n      <td>1978.0</td>\n      <td>...</td>\n      <td>502.167631</td>\n      <td>500.356516</td>\n      <td>498.607108</td>\n      <td>496.916307</td>\n      <td>495.281215</td>\n      <td>493.699125</td>\n      <td>492.167501</td>\n      <td>490.683965</td>\n      <td>489.246288</td>\n      <td>2050.0</td>\n    </tr>\n    <tr>\n      <th>29163</th>\n      <td>VINYL ACETATE M.</td>\n      <td>UNITED STATES</td>\n      <td>LYONDELLBASELL INDUSTRIES</td>\n      <td>ETHYLENE</td>\n      <td>ACETOXYLATION</td>\n      <td>LA PORTE/TX</td>\n      <td>1.0</td>\n      <td>n.a.</td>\n      <td>QUANTUM</td>\n      <td>1970.0</td>\n      <td>...</td>\n      <td>577.118024</td>\n      <td>575.036593</td>\n      <td>573.026079</td>\n      <td>571.082920</td>\n      <td>569.203785</td>\n      <td>567.385562</td>\n      <td>565.625337</td>\n      <td>563.920378</td>\n      <td>562.268122</td>\n      <td>2050.0</td>\n    </tr>\n  </tbody>\n</table>\n<p>29164 rows × 86 columns</p>\n</div>"
     },
     "execution_count": 3,
     "metadata": {},
     "output_type": "execute_result"
    }
   ],
   "source": [
    "data = pd.read_csv(save_path+'.csv')\n",
    "data"
   ],
   "metadata": {
    "collapsed": false,
    "pycharm": {
     "name": "#%%\n"
    }
   }
  },
  {
   "cell_type": "code",
   "execution_count": 11,
   "outputs": [
    {
     "data": {
      "text/plain": "array(['n.a.', '0', '*', 'REF PULAU BUKO SHELL EPPL',\n       'REF GREAT FALL MONTANA RE', 'AROMATICS COMPLX NO. 0',\n       'AROMATICS COMPLEX NO. 1', 'AROMATICS COMPLX NO. 2',\n       'AROMATICS COMPLX NO. 3', 'AROMATICS COMPLX NO. 6',\n       'REF STRATHCONA IMPERIAL O', 'REF CILACAP PERTAMINA',\n       'REF PLOCK      MZP', 'REF LYSEKIL    SCANRAFF',\n       'REF COFFEYVILL FARMLAND I', 'REF ARTESIA    NAVAJO REF',\n       'REF SINCLAIR SINCLAIR O', 'REF CHEYENNE FRONTIER R',\n       'REF DICKINSON NORTHLAND', 'REF MOBILE LOUISIANA',\n       'REF IZMIR      TURKISH PE', 'REF PLOIESTI   PETROBRAZI',\n       'REF PULAU MERL SINGAP.REF'], dtype=object)"
     },
     "execution_count": 11,
     "metadata": {},
     "output_type": "execute_result"
    }
   ],
   "source": [
    "data['COMPLEX'].unique()"
   ],
   "metadata": {
    "collapsed": false,
    "pycharm": {
     "name": "#%%\n"
    }
   }
  },
  {
   "cell_type": "code",
   "execution_count": null,
   "outputs": [],
   "source": [],
   "metadata": {
    "collapsed": false,
    "pycharm": {
     "name": "#%%\n"
    }
   }
  }
 ],
 "metadata": {
  "kernelspec": {
   "display_name": "Python 3",
   "language": "python",
   "name": "python3"
  },
  "language_info": {
   "codemirror_mode": {
    "name": "ipython",
    "version": 2
   },
   "file_extension": ".py",
   "mimetype": "text/x-python",
   "name": "python",
   "nbconvert_exporter": "python",
   "pygments_lexer": "ipython2",
   "version": "2.7.6"
  }
 },
 "nbformat": 4,
 "nbformat_minor": 0
}